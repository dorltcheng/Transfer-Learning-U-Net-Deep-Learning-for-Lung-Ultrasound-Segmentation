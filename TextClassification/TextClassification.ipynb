{
 "cells": [
  {
   "cell_type": "markdown",
   "id": "861607b4",
   "metadata": {},
   "source": [
    "# Text classification (multi-label)\n",
    "From tutorial: \n",
    "- https://curiousily.com/posts/multi-label-text-classification-with-bert-and-pytorch-lightning/\n",
    "- https://kyawkhaung.medium.com/multi-label-text-classification-with-bert-using-pytorch-47011a7313b9"
   ]
  },
  {
   "cell_type": "code",
   "execution_count": 1,
   "id": "4a061a76",
   "metadata": {},
   "outputs": [],
   "source": [
    "import os\n",
    "import sys\n",
    "import random\n",
    "import warnings\n",
    "warnings.filterwarnings(\"ignore\")\n",
    "\n",
    "#data manupulation libs\n",
    "import pandas as pd\n",
    "import numpy as np\n",
    "import pickle\n",
    "#from sklearn.model_selection import train_test_split\n",
    "\n",
    "#from pandarallel import pandarallel\n",
    "\n",
    "# Initialization\n",
    "#pandarallel.initialize()\n",
    "\n",
    "#string manupulation libs\n",
    "#string manupulation libs\n",
    "import re\n",
    "import string\n",
    "from string import digits\n",
    "import spacy\n",
    "import nltk\n",
    "from nltk.corpus import stopwords \n",
    "\n",
    "#torch libs\n",
    "import torch\n",
    "from torch.nn.utils.rnn import pad_sequence\n",
    "from torch.utils.data import DataLoader, Dataset\n",
    "from datasets import Dataset, load_dataset, DatasetDict\n",
    "import torch.nn as nn\n",
    "import torch.optim as optim\n",
    "\n",
    "import transformers\n",
    "\n",
    "from transformers import AutoTokenizer, AutoModel, TrainingArguments\n",
    "\n",
    "# data manipulations\n",
    "from pathlib import Path\n",
    "import uuid\n",
    "import pydicom\n",
    "\n",
    "from PIL import Image\n",
    "\n",
    "import cv2\n",
    "import matplotlib.pyplot as plt\n",
    "\n",
    "import collections\n",
    "\n",
    "from transformers import default_data_collator"
   ]
  },
  {
   "cell_type": "code",
   "execution_count": 2,
   "id": "ba4f9b77",
   "metadata": {},
   "outputs": [
    {
     "name": "stderr",
     "output_type": "stream",
     "text": [
      "Some weights of the model checkpoint at ICLbioengNLP/CXR_BioClinicalBERT_chunkedv1 were not used when initializing BertModel: ['cls.predictions.transform.dense.bias', 'cls.predictions.decoder.weight', 'cls.predictions.transform.dense.weight', 'cls.predictions.bias', 'cls.predictions.transform.LayerNorm.bias', 'cls.predictions.transform.LayerNorm.weight', 'cls.predictions.decoder.bias']\n",
      "- This IS expected if you are initializing BertModel from the checkpoint of a model trained on another task or with another architecture (e.g. initializing a BertForSequenceClassification model from a BertForPreTraining model).\n",
      "- This IS NOT expected if you are initializing BertModel from the checkpoint of a model that you expect to be exactly identical (initializing a BertForSequenceClassification model from a BertForSequenceClassification model).\n",
      "Some weights of BertModel were not initialized from the model checkpoint at ICLbioengNLP/CXR_BioClinicalBERT_chunkedv1 and are newly initialized: ['bert.pooler.dense.bias', 'bert.pooler.dense.weight']\n",
      "You should probably TRAIN this model on a down-stream task to be able to use it for predictions and inference.\n"
     ]
    }
   ],
   "source": [
    "# replace with the padded one\n",
    "tokenizer = AutoTokenizer.from_pretrained(\"ICLbioengNLP/CXR_BioClinicalBERT_chunkedv1\")\n",
    "model = AutoModel.from_pretrained(\"ICLbioengNLP/CXR_BioClinicalBERT_chunkedv1\") "
   ]
  },
  {
   "cell_type": "code",
   "execution_count": 3,
   "id": "89f2b61b",
   "metadata": {},
   "outputs": [
    {
     "name": "stdout",
     "output_type": "stream",
     "text": [
      "There are 3 GPU(s) available.\n",
      "We will use the GPU: GeForce RTX 3090\n"
     ]
    }
   ],
   "source": [
    "# If there's a GPU available...\n",
    "if torch.cuda.is_available():    \n",
    "\n",
    "    # Tell PyTorch to use the GPU.    \n",
    "    device = torch.device(\"cuda\")\n",
    "\n",
    "    print('There are %d GPU(s) available.' % torch.cuda.device_count())\n",
    "\n",
    "    print('We will use the GPU:', torch.cuda.get_device_name(0))\n",
    "\n",
    "# If not...\n",
    "else:\n",
    "    print('No GPU available, using the CPU instead.')\n",
    "    device = torch.device(\"cpu\")"
   ]
  },
  {
   "cell_type": "markdown",
   "id": "b43392b2",
   "metadata": {},
   "source": [
    "### Remove all null labels "
   ]
  },
  {
   "cell_type": "code",
   "execution_count": 5,
   "id": "e18aa07f",
   "metadata": {},
   "outputs": [
    {
     "name": "stdout",
     "output_type": "stream",
     "text": [
      "<class 'float'>\n",
      "nan\n",
      "222337\n"
     ]
    }
   ],
   "source": [
    "df_train = pd.read_pickle('train.pkl')\n",
    "df_test = pd.read_pickle('test.pkl')\n",
    "\n",
    "print(type(df_train[\"diagnosis\"][58646]))\n",
    "print(df_train[\"diagnosis\"][58646])\n",
    "print(df_train.shape[0])"
   ]
  },
  {
   "cell_type": "code",
   "execution_count": 6,
   "id": "e6de625e",
   "metadata": {},
   "outputs": [
    {
     "name": "stdout",
     "output_type": "stream",
     "text": [
      "[34522, 58646, 98871, 128922, 137843, 140830, 169225, 207777]\n",
      "[]\n"
     ]
    }
   ],
   "source": [
    "remove_rows_train = []\n",
    "remove_rows_test = []\n",
    "\n",
    "for i in range(df_train.shape[0]):\n",
    "    if type(df_train[\"diagnosis\"][i]) != list:\n",
    "        remove_rows_train.append(i)\n",
    "        \n",
    "for i in range(df_test.shape[0]):\n",
    "    if type(df_test[\"diagnosis\"][i]) != list:\n",
    "        remove_rows_test.append(i)\n",
    "\n",
    "print(remove_rows_train)\n",
    "print(remove_rows_test)"
   ]
  },
  {
   "cell_type": "code",
   "execution_count": 7,
   "id": "347dfc45",
   "metadata": {},
   "outputs": [],
   "source": [
    "# nothing to be removed from df_test, only df_train\n",
    "df_train = df_train.drop(remove_rows_train)\n",
    "df_train = df_train.reset_index()\n",
    "df_train = df_train.drop(\"index\", 1)\n",
    "\n",
    "df_test = df_test.reset_index()\n",
    "df_test = df_test.drop(\"index\", 1)"
   ]
  },
  {
   "cell_type": "code",
   "execution_count": 8,
   "id": "dac82226",
   "metadata": {},
   "outputs": [
    {
     "data": {
      "text/html": [
       "<div>\n",
       "<style scoped>\n",
       "    .dataframe tbody tr th:only-of-type {\n",
       "        vertical-align: middle;\n",
       "    }\n",
       "\n",
       "    .dataframe tbody tr th {\n",
       "        vertical-align: top;\n",
       "    }\n",
       "\n",
       "    .dataframe thead th {\n",
       "        text-align: right;\n",
       "    }\n",
       "</style>\n",
       "<table border=\"1\" class=\"dataframe\">\n",
       "  <thead>\n",
       "    <tr style=\"text-align: right;\">\n",
       "      <th></th>\n",
       "      <th>study_id</th>\n",
       "      <th>raw_report</th>\n",
       "      <th>diagnosis</th>\n",
       "    </tr>\n",
       "  </thead>\n",
       "  <tbody>\n",
       "    <tr>\n",
       "      <th>0</th>\n",
       "      <td>50414267</td>\n",
       "      <td>FINAL REPORT ...</td>\n",
       "      <td>[0, 0, 0, 0, 0, 0, 0, 0, 0, 0, 0, 0, 1]</td>\n",
       "    </tr>\n",
       "    <tr>\n",
       "      <th>1</th>\n",
       "      <td>53189527</td>\n",
       "      <td>FINAL REPORT ...</td>\n",
       "      <td>[0, 0, 0, 0, 0, 0, 0, 0, 0, 0, 0, 0, 1]</td>\n",
       "    </tr>\n",
       "    <tr>\n",
       "      <th>2</th>\n",
       "      <td>53911762</td>\n",
       "      <td>FINAL REPORT ...</td>\n",
       "      <td>[0, 0, 0, 0, 0, 0, 0, 0, 0, 0, 0, 0, 1]</td>\n",
       "    </tr>\n",
       "    <tr>\n",
       "      <th>3</th>\n",
       "      <td>56699142</td>\n",
       "      <td>FINAL REPORT ...</td>\n",
       "      <td>[0, 0, 0, 0, 0, 0, 0, 0, 0, 0, 0, 0, 1]</td>\n",
       "    </tr>\n",
       "    <tr>\n",
       "      <th>4</th>\n",
       "      <td>57375967</td>\n",
       "      <td>FINAL REPORT ...</td>\n",
       "      <td>[0, 0, 1, 0, 0, 0, 0, 0, 0, 0, 0, 0, 0]</td>\n",
       "    </tr>\n",
       "    <tr>\n",
       "      <th>...</th>\n",
       "      <td>...</td>\n",
       "      <td>...</td>\n",
       "      <td>...</td>\n",
       "    </tr>\n",
       "    <tr>\n",
       "      <th>222324</th>\n",
       "      <td>58708861</td>\n",
       "      <td>FINAL REPORT ...</td>\n",
       "      <td>[0, 0, 0, 0, 0, 0, 0, 0, 0, 0, 0, 0, 1]</td>\n",
       "    </tr>\n",
       "    <tr>\n",
       "      <th>222325</th>\n",
       "      <td>57132437</td>\n",
       "      <td>FINAL REPORT ...</td>\n",
       "      <td>[0, 0, 0, 0, 0, 0, 0, 0, 0, 0, 0, 0, 1]</td>\n",
       "    </tr>\n",
       "    <tr>\n",
       "      <th>222326</th>\n",
       "      <td>55368167</td>\n",
       "      <td>FINAL REPORT ...</td>\n",
       "      <td>[0, 1, 0, 0, 0, 0, 0, 0, 0, 0, 0, 0, 0]</td>\n",
       "    </tr>\n",
       "    <tr>\n",
       "      <th>222327</th>\n",
       "      <td>58621812</td>\n",
       "      <td>FINAL REPORT ...</td>\n",
       "      <td>[0, 1, 0, 0, 0, 0, 0, 0, 0, 0, 0, 0, 0]</td>\n",
       "    </tr>\n",
       "    <tr>\n",
       "      <th>222328</th>\n",
       "      <td>58971208</td>\n",
       "      <td>FINAL REPORT ...</td>\n",
       "      <td>[0, 1, 0, 0, 0, 0, 0, 0, 0, 0, 0, 0, 0]</td>\n",
       "    </tr>\n",
       "  </tbody>\n",
       "</table>\n",
       "<p>222329 rows × 3 columns</p>\n",
       "</div>"
      ],
      "text/plain": [
       "        study_id                                         raw_report  \\\n",
       "0       50414267                                   FINAL REPORT ...   \n",
       "1       53189527                                   FINAL REPORT ...   \n",
       "2       53911762                                   FINAL REPORT ...   \n",
       "3       56699142                                   FINAL REPORT ...   \n",
       "4       57375967                                   FINAL REPORT ...   \n",
       "...          ...                                                ...   \n",
       "222324  58708861                                   FINAL REPORT ...   \n",
       "222325  57132437                                   FINAL REPORT ...   \n",
       "222326  55368167                                   FINAL REPORT ...   \n",
       "222327  58621812                                   FINAL REPORT ...   \n",
       "222328  58971208                                   FINAL REPORT ...   \n",
       "\n",
       "                                      diagnosis  \n",
       "0       [0, 0, 0, 0, 0, 0, 0, 0, 0, 0, 0, 0, 1]  \n",
       "1       [0, 0, 0, 0, 0, 0, 0, 0, 0, 0, 0, 0, 1]  \n",
       "2       [0, 0, 0, 0, 0, 0, 0, 0, 0, 0, 0, 0, 1]  \n",
       "3       [0, 0, 0, 0, 0, 0, 0, 0, 0, 0, 0, 0, 1]  \n",
       "4       [0, 0, 1, 0, 0, 0, 0, 0, 0, 0, 0, 0, 0]  \n",
       "...                                         ...  \n",
       "222324  [0, 0, 0, 0, 0, 0, 0, 0, 0, 0, 0, 0, 1]  \n",
       "222325  [0, 0, 0, 0, 0, 0, 0, 0, 0, 0, 0, 0, 1]  \n",
       "222326  [0, 1, 0, 0, 0, 0, 0, 0, 0, 0, 0, 0, 0]  \n",
       "222327  [0, 1, 0, 0, 0, 0, 0, 0, 0, 0, 0, 0, 0]  \n",
       "222328  [0, 1, 0, 0, 0, 0, 0, 0, 0, 0, 0, 0, 0]  \n",
       "\n",
       "[222329 rows x 3 columns]"
      ]
     },
     "metadata": {},
     "output_type": "display_data"
    }
   ],
   "source": [
    "df_train.shape\n",
    "display(df_train.head(n=df_train.shape[0]))"
   ]
  },
  {
   "cell_type": "code",
   "execution_count": 9,
   "id": "c6d2562f",
   "metadata": {},
   "outputs": [
    {
     "data": {
      "text/html": [
       "<div>\n",
       "<style scoped>\n",
       "    .dataframe tbody tr th:only-of-type {\n",
       "        vertical-align: middle;\n",
       "    }\n",
       "\n",
       "    .dataframe tbody tr th {\n",
       "        vertical-align: top;\n",
       "    }\n",
       "\n",
       "    .dataframe thead th {\n",
       "        text-align: right;\n",
       "    }\n",
       "</style>\n",
       "<table border=\"1\" class=\"dataframe\">\n",
       "  <thead>\n",
       "    <tr style=\"text-align: right;\">\n",
       "      <th></th>\n",
       "      <th>study_id</th>\n",
       "      <th>raw_report</th>\n",
       "      <th>diagnosis</th>\n",
       "    </tr>\n",
       "  </thead>\n",
       "  <tbody>\n",
       "    <tr>\n",
       "      <th>0</th>\n",
       "      <td>50331901</td>\n",
       "      <td>FINAL REPORT ...</td>\n",
       "      <td>[0, 0, 0, 0, 0, 0, 0, 0, 0, 0, 0, 0, 1]</td>\n",
       "    </tr>\n",
       "    <tr>\n",
       "      <th>1</th>\n",
       "      <td>55504914</td>\n",
       "      <td>FINAL REPORT ...</td>\n",
       "      <td>[0, 0, 0, 0, 0, 0, 0, 0, 0, 0, 0, 0, 1]</td>\n",
       "    </tr>\n",
       "    <tr>\n",
       "      <th>2</th>\n",
       "      <td>50051329</td>\n",
       "      <td>FINAL REPORT ...</td>\n",
       "      <td>[0, 0, 0, 0, 0, 0, 0, 0, 0, 0, 0, 0, 1]</td>\n",
       "    </tr>\n",
       "    <tr>\n",
       "      <th>3</th>\n",
       "      <td>51738740</td>\n",
       "      <td>FINAL REPORT ...</td>\n",
       "      <td>[0, 0, 0, 0, 0, 0, 0, 0, 0, 0, 0, 0, 1]</td>\n",
       "    </tr>\n",
       "    <tr>\n",
       "      <th>4</th>\n",
       "      <td>53492798</td>\n",
       "      <td>FINAL REPORT ...</td>\n",
       "      <td>[0, 0, 0, 0, 0, 0, 0, 0, 0, 0, 0, 0, 1]</td>\n",
       "    </tr>\n",
       "  </tbody>\n",
       "</table>\n",
       "</div>"
      ],
      "text/plain": [
       "   study_id                                         raw_report  \\\n",
       "0  50331901                                   FINAL REPORT ...   \n",
       "1  55504914                                   FINAL REPORT ...   \n",
       "2  50051329                                   FINAL REPORT ...   \n",
       "3  51738740                                   FINAL REPORT ...   \n",
       "4  53492798                                   FINAL REPORT ...   \n",
       "\n",
       "                                 diagnosis  \n",
       "0  [0, 0, 0, 0, 0, 0, 0, 0, 0, 0, 0, 0, 1]  \n",
       "1  [0, 0, 0, 0, 0, 0, 0, 0, 0, 0, 0, 0, 1]  \n",
       "2  [0, 0, 0, 0, 0, 0, 0, 0, 0, 0, 0, 0, 1]  \n",
       "3  [0, 0, 0, 0, 0, 0, 0, 0, 0, 0, 0, 0, 1]  \n",
       "4  [0, 0, 0, 0, 0, 0, 0, 0, 0, 0, 0, 0, 1]  "
      ]
     },
     "execution_count": 9,
     "metadata": {},
     "output_type": "execute_result"
    }
   ],
   "source": [
    "df_test.head()"
   ]
  },
  {
   "cell_type": "code",
   "execution_count": 10,
   "id": "b9fe9a4f",
   "metadata": {},
   "outputs": [
    {
     "name": "stdout",
     "output_type": "stream",
     "text": [
      "DatasetDict({\n",
      "    train: Dataset({\n",
      "        features: ['study_id', 'raw_report', 'diagnosis'],\n",
      "        num_rows: 222329\n",
      "    })\n",
      "    test: Dataset({\n",
      "        features: ['study_id', 'raw_report', 'diagnosis'],\n",
      "        num_rows: 3269\n",
      "    })\n",
      "})\n"
     ]
    }
   ],
   "source": [
    "# load dataframes as datasets\n",
    "tds = Dataset.from_pandas(df_train)\n",
    "vds = Dataset.from_pandas(df_test)\n",
    "\n",
    "\n",
    "# put both train and test set into one DatasetDict\n",
    "reports_dataset = DatasetDict()\n",
    "\n",
    "reports_dataset['train'] = tds\n",
    "reports_dataset['test'] = vds\n",
    "\n",
    "print(reports_dataset)"
   ]
  },
  {
   "cell_type": "code",
   "execution_count": 11,
   "id": "27c185f4",
   "metadata": {},
   "outputs": [
    {
     "data": {
      "text/plain": [
       "DatasetDict({\n",
       "    train: Dataset({\n",
       "        features: ['study_id', 'raw_report', 'labels'],\n",
       "        num_rows: 222329\n",
       "    })\n",
       "    test: Dataset({\n",
       "        features: ['study_id', 'raw_report', 'labels'],\n",
       "        num_rows: 3269\n",
       "    })\n",
       "})"
      ]
     },
     "execution_count": 11,
     "metadata": {},
     "output_type": "execute_result"
    }
   ],
   "source": [
    "reports_dataset = reports_dataset.rename_column(\"diagnosis\", \"labels\")\n",
    "reports_dataset"
   ]
  },
  {
   "cell_type": "markdown",
   "id": "736f0d33",
   "metadata": {},
   "source": [
    "### Tokenization and Padding\n",
    "- same as before: returning input_ids, attention_mask, labels (which is the array [0, 1, 1, 0, 0] "
   ]
  },
  {
   "cell_type": "code",
   "execution_count": 13,
   "id": "0f3db669",
   "metadata": {},
   "outputs": [],
   "source": [
    "padsize = 128"
   ]
  },
  {
   "cell_type": "code",
   "execution_count": 14,
   "id": "a3326454",
   "metadata": {},
   "outputs": [
    {
     "data": {
      "application/vnd.jupyter.widget-view+json": {
       "model_id": "b326ad7ecffb41939b279b4bc802b857",
       "version_major": 2,
       "version_minor": 0
      },
      "text/plain": [
       "  0%|          | 0/223 [00:00<?, ?ba/s]"
      ]
     },
     "metadata": {},
     "output_type": "display_data"
    },
    {
     "data": {
      "application/vnd.jupyter.widget-view+json": {
       "model_id": "84437698f3b449c5aa7636c25aa09e62",
       "version_major": 2,
       "version_minor": 0
      },
      "text/plain": [
       "  0%|          | 0/4 [00:00<?, ?ba/s]"
      ]
     },
     "metadata": {},
     "output_type": "display_data"
    },
    {
     "data": {
      "text/plain": [
       "DatasetDict({\n",
       "    train: Dataset({\n",
       "        features: ['labels', 'input_ids', 'token_type_ids', 'attention_mask'],\n",
       "        num_rows: 222329\n",
       "    })\n",
       "    test: Dataset({\n",
       "        features: ['labels', 'input_ids', 'token_type_ids', 'attention_mask'],\n",
       "        num_rows: 3269\n",
       "    })\n",
       "})"
      ]
     },
     "execution_count": 14,
     "metadata": {},
     "output_type": "execute_result"
    }
   ],
   "source": [
    "def tokenize_function_padding(dataset):\n",
    "    result = tokenizer(dataset[\"raw_report\"])\n",
    "    return result\n",
    "\n",
    "# Use batched=True to activate fast multithreading!\n",
    "tokenized_datasets = reports_dataset.map(\n",
    "    tokenize_function_padding, batched=True, remove_columns=[\"raw_report\", \"study_id\"])\n",
    "\n",
    "tokenized_datasets"
   ]
  },
  {
   "cell_type": "code",
   "execution_count": 15,
   "id": "b13cc453",
   "metadata": {},
   "outputs": [
    {
     "data": {
      "application/vnd.jupyter.widget-view+json": {
       "model_id": "4652c5e46d844f9285024bac9d802bc4",
       "version_major": 2,
       "version_minor": 0
      },
      "text/plain": [
       "0ex [00:00, ?ex/s]"
      ]
     },
     "metadata": {},
     "output_type": "display_data"
    },
    {
     "data": {
      "application/vnd.jupyter.widget-view+json": {
       "model_id": "b5262308f74148bda7e46a480c783cea",
       "version_major": 2,
       "version_minor": 0
      },
      "text/plain": [
       "0ex [00:00, ?ex/s]"
      ]
     },
     "metadata": {},
     "output_type": "display_data"
    }
   ],
   "source": [
    "def padding(dataset):\n",
    "    \n",
    "    num_items = len(dataset['input_ids']) # to get number of all items in train dataset\n",
    "\n",
    "    while(len(dataset['input_ids']) < padsize):\n",
    "        dataset['input_ids'].append(0)\n",
    "        dataset['token_type_ids'].append(0)\n",
    "        dataset['attention_mask'].append(0)\n",
    "        \n",
    "    return dataset\n",
    "\n",
    "padded_dataset = tokenized_datasets.map(padding, batched=False)"
   ]
  },
  {
   "cell_type": "code",
   "execution_count": 17,
   "id": "282b8073",
   "metadata": {},
   "outputs": [
    {
     "data": {
      "application/vnd.jupyter.widget-view+json": {
       "model_id": "ec0098dc44514eac893ab4d980f00b67",
       "version_major": 2,
       "version_minor": 0
      },
      "text/plain": [
       "  0%|          | 0/223 [00:00<?, ?ba/s]"
      ]
     },
     "metadata": {},
     "output_type": "display_data"
    },
    {
     "data": {
      "application/vnd.jupyter.widget-view+json": {
       "model_id": "26be3ae84b6145039ebff7891891489e",
       "version_major": 2,
       "version_minor": 0
      },
      "text/plain": [
       "  0%|          | 0/4 [00:00<?, ?ba/s]"
      ]
     },
     "metadata": {},
     "output_type": "display_data"
    }
   ],
   "source": [
    "smaller_dataset = padded_dataset.filter(lambda example: len(example['input_ids'])<=padsize)"
   ]
  },
  {
   "cell_type": "code",
   "execution_count": 18,
   "id": "2ca7b34b",
   "metadata": {},
   "outputs": [
    {
     "data": {
      "application/vnd.jupyter.widget-view+json": {
       "model_id": "28dd37a6b2544ade8776c2b8ed99d9cd",
       "version_major": 2,
       "version_minor": 0
      },
      "text/plain": [
       "0ex [00:00, ?ex/s]"
      ]
     },
     "metadata": {},
     "output_type": "display_data"
    },
    {
     "data": {
      "application/vnd.jupyter.widget-view+json": {
       "model_id": "f760b1d02d5142aaaec0abc6ed42f41f",
       "version_major": 2,
       "version_minor": 0
      },
      "text/plain": [
       "0ex [00:00, ?ex/s]"
      ]
     },
     "metadata": {},
     "output_type": "display_data"
    },
    {
     "data": {
      "text/plain": [
       "DatasetDict({\n",
       "    train: Dataset({\n",
       "        features: ['labels', 'input_ids', 'attention_mask'],\n",
       "        num_rows: 148696\n",
       "    })\n",
       "    test: Dataset({\n",
       "        features: ['labels', 'input_ids', 'attention_mask'],\n",
       "        num_rows: 1775\n",
       "    })\n",
       "})"
      ]
     },
     "execution_count": 18,
     "metadata": {},
     "output_type": "execute_result"
    }
   ],
   "source": [
    "padded_dataset = smaller_dataset\n",
    "\n",
    "def check_function(dataset):\n",
    "\n",
    "    lenReport = len(dataset['input_ids'])\n",
    "    \n",
    "    if (lenReport > padsize):\n",
    "        print('yes')\n",
    "    return dataset\n",
    "\n",
    "padded_dataset.map(check_function, batched = False, remove_columns=[\"token_type_ids\"])"
   ]
  },
  {
   "cell_type": "code",
   "execution_count": 19,
   "id": "d22d7ad9",
   "metadata": {},
   "outputs": [
    {
     "name": "stdout",
     "output_type": "stream",
     "text": [
      "<class 'list'>\n",
      "<class 'list'>\n",
      "<class 'list'>\n"
     ]
    }
   ],
   "source": [
    "print(type(padded_dataset[\"train\"][\"input_ids\"][0]))\n",
    "print(type(padded_dataset[\"train\"][\"attention_mask\"][0]))\n",
    "print(type(padded_dataset[\"train\"][\"labels\"][0]))"
   ]
  },
  {
   "cell_type": "code",
   "execution_count": 20,
   "id": "75346f13",
   "metadata": {},
   "outputs": [
    {
     "name": "stdout",
     "output_type": "stream",
     "text": [
      "1775\n"
     ]
    }
   ],
   "source": [
    "print(len(padded_dataset[\"test\"][\"input_ids\"]))"
   ]
  },
  {
   "cell_type": "code",
   "execution_count": 21,
   "id": "9e406047",
   "metadata": {},
   "outputs": [],
   "source": [
    "# class customDataset(Dataset):\n",
    "#     def __init__(self, dataset, types):\n",
    "#         self.dataset = dataset[types]\n",
    "    \n",
    "#     def __len__(self):\n",
    "#         return len(self.dataset[\"input_ids\"])\n",
    "    \n",
    "#     def __getitem__(self, idx):\n",
    "#         input_ids = self.dataset[\"input_ids\"][idx]\n",
    "#         attention_mask = self.dataset[\"attention_mask\"][idx]\n",
    "#         labels = self.dataset[\"labels\"][idx]\n",
    "        \n",
    "#         return dict(\n",
    "#             input_ids = torch.tensor(input_ids, dtype=torch.long), \n",
    "#             attention_mask = torch.tensor(attention_mask, dtype=torch.long), \n",
    "#             labels = torch.tensor(labels, dtype=torch.float)\n",
    "#         )"
   ]
  },
  {
   "cell_type": "code",
   "execution_count": 22,
   "id": "fc117ba7",
   "metadata": {},
   "outputs": [],
   "source": [
    "# train_dataset = customDataset(padded_dataset, \"train\")\n",
    "# eval_dataset = customDataset(padded_dataset, \"test\")"
   ]
  },
  {
   "cell_type": "code",
   "execution_count": 23,
   "id": "d9834fc4",
   "metadata": {},
   "outputs": [],
   "source": [
    "# # print(train_dataset[0][\"input_ids\"])\n",
    "# # print(train_dataset[0][\"input_ids\"].size())\n",
    "# # print(train_dataset[0][\"attention_mask\"])\n",
    "# # print(train_dataset[0][\"attention_mask\"].size())\n",
    "# print(len(train_dataset))\n",
    "# print(len(eval_dataset))\n",
    "# print(train_dataset[0][\"labels\"])"
   ]
  },
  {
   "cell_type": "markdown",
   "id": "3239be0b",
   "metadata": {},
   "source": [
    "### Adding linear layer to BERTmodel"
   ]
  },
  {
   "cell_type": "code",
   "execution_count": 24,
   "id": "5e6eb08e",
   "metadata": {},
   "outputs": [
    {
     "name": "stderr",
     "output_type": "stream",
     "text": [
      "Some weights of the model checkpoint at ICLbioengNLP/CXR_BioClinicalBERT_chunkedv1 were not used when initializing BertModel: ['cls.predictions.transform.dense.bias', 'cls.predictions.decoder.weight', 'cls.predictions.transform.dense.weight', 'cls.predictions.bias', 'cls.predictions.transform.LayerNorm.bias', 'cls.predictions.transform.LayerNorm.weight', 'cls.predictions.decoder.bias']\n",
      "- This IS expected if you are initializing BertModel from the checkpoint of a model trained on another task or with another architecture (e.g. initializing a BertForSequenceClassification model from a BertForPreTraining model).\n",
      "- This IS NOT expected if you are initializing BertModel from the checkpoint of a model that you expect to be exactly identical (initializing a BertForSequenceClassification model from a BertForSequenceClassification model).\n",
      "Some weights of BertModel were not initialized from the model checkpoint at ICLbioengNLP/CXR_BioClinicalBERT_chunkedv1 and are newly initialized: ['bert.pooler.dense.bias', 'bert.pooler.dense.weight']\n",
      "You should probably TRAIN this model on a down-stream task to be able to use it for predictions and inference.\n"
     ]
    }
   ],
   "source": [
    "class BERTClass(torch.nn.Module):\n",
    "    def __init__(self):\n",
    "        super(BERTClass, self).__init__()\n",
    "        self.bert = AutoModel.from_pretrained(\"ICLbioengNLP/CXR_BioClinicalBERT_chunkedv1\") \n",
    "#         self.dropout = torch.nn.Dropout(0.3) # dunno if this work, forget about it now\n",
    "        self.classifier = torch.nn.Linear(768, 13) # 768 and 13 are fixed in our case\n",
    "    \n",
    "    def forward(self, input_ids, mask):\n",
    "        _, pooled_output = self.bert(input_ids = input_ids, attention_mask = mask, return_dict = False) # dun need word_id and token_type_id I think\n",
    "#         output = self.dropout(output)\n",
    "        output = self.classifier(pooled_output)\n",
    "        return output\n",
    "\n",
    "model = BERTClass()"
   ]
  },
  {
   "cell_type": "markdown",
   "id": "c895f55a",
   "metadata": {},
   "source": [
    "### Train with Accelerate\n",
    "- Try to train it the same way as before, with a linear layer added to BERTmodel\n",
    "- Define new evaluation score: BCEwithLogits\n",
    "- Add labels into training"
   ]
  },
  {
   "cell_type": "markdown",
   "id": "17a945c7",
   "metadata": {},
   "source": [
    "#### 1. Dataloaders"
   ]
  },
  {
   "cell_type": "code",
   "execution_count": 25,
   "id": "2e1687f3",
   "metadata": {},
   "outputs": [],
   "source": [
    "from transformers import default_data_collator\n",
    "data_collator = default_data_collator"
   ]
  },
  {
   "cell_type": "code",
   "execution_count": 26,
   "id": "d3d75ce7",
   "metadata": {},
   "outputs": [],
   "source": [
    "batch_size = 32\n",
    "\n",
    "train_dataloader = DataLoader(\n",
    "    padded_dataset[\"train\"],\n",
    "    #train_dataset, \n",
    "    shuffle=True,\n",
    "    batch_size=batch_size,\n",
    "    collate_fn=default_data_collator,\n",
    ")\n",
    "\n",
    "# Use the default_data_collator from Transformers for the evaluation set\n",
    "eval_dataloader = DataLoader(\n",
    "    padded_dataset[\"test\"], \n",
    "    #eval_dataset, \n",
    "    batch_size=batch_size, \n",
    "    collate_fn=default_data_collator,\n",
    ")"
   ]
  },
  {
   "cell_type": "code",
   "execution_count": 27,
   "id": "647c33d7",
   "metadata": {},
   "outputs": [],
   "source": [
    "# # not yet return as a tensor?\n",
    "# for batch_idx, data in enumerate(train_dataloader):\n",
    "#     for batch_idx in range(100, 300, 1):\n",
    "#         print(batch_idx, \" \", data[\"labels\"])"
   ]
  },
  {
   "cell_type": "code",
   "execution_count": 28,
   "id": "577b7c68",
   "metadata": {},
   "outputs": [
    {
     "name": "stdout",
     "output_type": "stream",
     "text": [
      "4647\n",
      "56\n"
     ]
    }
   ],
   "source": [
    "print(len(train_dataloader))\n",
    "print(len(eval_dataloader))"
   ]
  },
  {
   "cell_type": "markdown",
   "id": "8d89a86f",
   "metadata": {},
   "source": [
    "#### 2. Train with Accelerate "
   ]
  },
  {
   "cell_type": "code",
   "execution_count": 29,
   "id": "0e62a4df",
   "metadata": {},
   "outputs": [],
   "source": [
    "# Adam optimizer \n",
    "from torch.optim import AdamW\n",
    "\n",
    "optimizer = AdamW(model.parameters(), lr=5e-5)"
   ]
  },
  {
   "cell_type": "code",
   "execution_count": 30,
   "id": "59542568",
   "metadata": {},
   "outputs": [],
   "source": [
    "from accelerate import Accelerator\n",
    "\n",
    "accelerator = Accelerator()\n",
    "model, optimizer, train_dataloader, eval_dataloader = accelerator.prepare(\n",
    "    model, \n",
    "    optimizer, \n",
    "    train_dataloader, \n",
    "    eval_dataloader\n",
    ")"
   ]
  },
  {
   "cell_type": "code",
   "execution_count": 31,
   "id": "dc6c7c00",
   "metadata": {},
   "outputs": [],
   "source": [
    "# Learning rate scheduler:\n",
    "from transformers import get_scheduler\n",
    "\n",
    "num_train_epochs = 5 # change this later\n",
    "\n",
    "num_update_steps_per_epoch = len(train_dataloader)\n",
    "num_training_steps = num_train_epochs * num_update_steps_per_epoch\n",
    "\n",
    "lr_scheduler = get_scheduler(\n",
    "    \"linear\",\n",
    "    optimizer=optimizer,\n",
    "    num_warmup_steps=0,\n",
    "    num_training_steps=num_training_steps,\n",
    ")"
   ]
  },
  {
   "cell_type": "code",
   "execution_count": 32,
   "id": "700ace08",
   "metadata": {},
   "outputs": [
    {
     "data": {
      "text/plain": [
       "'ICLbioengNLP/CXR_BioClinicalBERT_Class'"
      ]
     },
     "execution_count": 32,
     "metadata": {},
     "output_type": "execute_result"
    }
   ],
   "source": [
    "######### Saving onto Huggingface hub ########### (Not saving onto it)\n",
    "from huggingface_hub import get_full_repo_name\n",
    "\n",
    "model_name = \"CXR_BioClinicalBERT_Class\"\n",
    "repo_name = get_full_repo_name(model_name)\n",
    "repo_name"
   ]
  },
  {
   "cell_type": "code",
   "execution_count": 33,
   "id": "c230f3bf",
   "metadata": {},
   "outputs": [
    {
     "name": "stderr",
     "output_type": "stream",
     "text": [
      "/media/SharedUsers/dlc19/home/codes/nlp-fineTuningBERT/TextClassification/CXR_BioClinicalBERT_Class is already a clone of https://huggingface.co/ICLbioengNLP/CXR_BioClinicalBERT_Class. Make sure you pull the latest changes with `repo.git_pull()`.\n"
     ]
    }
   ],
   "source": [
    "from huggingface_hub import Repository\n",
    "\n",
    "output_dir = model_name\n",
    "repo = Repository(output_dir, clone_from=repo_name)"
   ]
  },
  {
   "cell_type": "markdown",
   "id": "3e1a9d00",
   "metadata": {},
   "source": [
    "#### 4. Training Loop"
   ]
  },
  {
   "cell_type": "code",
   "execution_count": 34,
   "id": "c1c5fb5b",
   "metadata": {},
   "outputs": [],
   "source": [
    "# Loss function - BCEwithLogitsLoss\n",
    "def loss_fn(outputs, targets):\n",
    "    return torch.nn.BCEWithLogitsLoss()(outputs, targets)"
   ]
  },
  {
   "cell_type": "code",
   "execution_count": 35,
   "id": "47bae84e",
   "metadata": {},
   "outputs": [],
   "source": [
    "val_targets = []\n",
    "val_outputs = []"
   ]
  },
  {
   "cell_type": "code",
   "execution_count": 36,
   "id": "2bd31162",
   "metadata": {},
   "outputs": [],
   "source": [
    "import shutil\n",
    "\n",
    "def save_ckp(state, is_best, checkpoint_path, best_model_path):\n",
    "    \"\"\"\n",
    "    state: checkpoint we want to save\n",
    "    is_best: is this the best checkpoint; min validation loss\n",
    "    checkpoint_path: path to save checkpoint\n",
    "    best_model_path: path to save best model\n",
    "    \"\"\"\n",
    "    f_path = checkpoint_path\n",
    "    # save checkpoint data to the path given, checkpoint_path\n",
    "    accelerator.save(state, f_path)\n",
    "    # if it is a best model, min validation loss\n",
    "    if is_best:\n",
    "        best_fpath = best_model_path\n",
    "        # copy that checkpoint file to best path given, best_model_path\n",
    "        shutil.copyfile(f_path, best_fpath)"
   ]
  },
  {
   "cell_type": "code",
   "execution_count": 37,
   "id": "97447963",
   "metadata": {},
   "outputs": [
    {
     "data": {
      "application/vnd.jupyter.widget-view+json": {
       "model_id": "13ee9f10b01547e593d262aca508117a",
       "version_major": 2,
       "version_minor": 0
      },
      "text/plain": [
       "  0%|          | 0/23235 [00:00<?, ?it/s]"
      ]
     },
     "metadata": {},
     "output_type": "display_data"
    },
    {
     "name": "stdout",
     "output_type": "stream",
     "text": [
      "############# Epoch 0: Training Start   #############\n",
      "batch id: 0, now fit into model\n",
      "batch id: 0, now finish loss\n",
      "batch id: 100, now fit into model\n",
      "batch id: 100, now finish loss\n",
      "batch id: 200, now fit into model\n",
      "batch id: 200, now finish loss\n",
      "batch id: 300, now fit into model\n",
      "batch id: 300, now finish loss\n",
      "batch id: 400, now fit into model\n",
      "batch id: 400, now finish loss\n",
      "batch id: 500, now fit into model\n",
      "batch id: 500, now finish loss\n",
      "batch id: 600, now fit into model\n",
      "batch id: 600, now finish loss\n",
      "batch id: 700, now fit into model\n",
      "batch id: 700, now finish loss\n",
      "batch id: 800, now fit into model\n",
      "batch id: 800, now finish loss\n",
      "batch id: 900, now fit into model\n",
      "batch id: 900, now finish loss\n",
      "batch id: 1000, now fit into model\n",
      "batch id: 1000, now finish loss\n",
      "batch id: 1100, now fit into model\n",
      "batch id: 1100, now finish loss\n",
      "batch id: 1200, now fit into model\n",
      "batch id: 1200, now finish loss\n",
      "batch id: 1300, now fit into model\n",
      "batch id: 1300, now finish loss\n",
      "batch id: 1400, now fit into model\n",
      "batch id: 1400, now finish loss\n",
      "batch id: 1500, now fit into model\n",
      "batch id: 1500, now finish loss\n",
      "batch id: 1600, now fit into model\n",
      "batch id: 1600, now finish loss\n",
      "batch id: 1700, now fit into model\n",
      "batch id: 1700, now finish loss\n",
      "batch id: 1800, now fit into model\n",
      "batch id: 1800, now finish loss\n",
      "batch id: 1900, now fit into model\n",
      "batch id: 1900, now finish loss\n",
      "batch id: 2000, now fit into model\n",
      "batch id: 2000, now finish loss\n",
      "batch id: 2100, now fit into model\n",
      "batch id: 2100, now finish loss\n",
      "batch id: 2200, now fit into model\n",
      "batch id: 2200, now finish loss\n",
      "batch id: 2300, now fit into model\n",
      "batch id: 2300, now finish loss\n",
      "batch id: 2400, now fit into model\n",
      "batch id: 2400, now finish loss\n",
      "batch id: 2500, now fit into model\n",
      "batch id: 2500, now finish loss\n",
      "batch id: 2600, now fit into model\n",
      "batch id: 2600, now finish loss\n",
      "batch id: 2700, now fit into model\n",
      "batch id: 2700, now finish loss\n",
      "batch id: 2800, now fit into model\n",
      "batch id: 2800, now finish loss\n",
      "batch id: 2900, now fit into model\n",
      "batch id: 2900, now finish loss\n",
      "batch id: 3000, now fit into model\n",
      "batch id: 3000, now finish loss\n",
      "batch id: 3100, now fit into model\n",
      "batch id: 3100, now finish loss\n",
      "batch id: 3200, now fit into model\n",
      "batch id: 3200, now finish loss\n",
      "batch id: 3300, now fit into model\n",
      "batch id: 3300, now finish loss\n",
      "batch id: 3400, now fit into model\n",
      "batch id: 3400, now finish loss\n",
      "batch id: 3500, now fit into model\n",
      "batch id: 3500, now finish loss\n",
      "batch id: 3600, now fit into model\n",
      "batch id: 3600, now finish loss\n",
      "batch id: 3700, now fit into model\n",
      "batch id: 3700, now finish loss\n",
      "batch id: 3800, now fit into model\n",
      "batch id: 3800, now finish loss\n",
      "batch id: 3900, now fit into model\n",
      "batch id: 3900, now finish loss\n",
      "batch id: 4000, now fit into model\n",
      "batch id: 4000, now finish loss\n",
      "batch id: 4100, now fit into model\n",
      "batch id: 4100, now finish loss\n",
      "batch id: 4200, now fit into model\n",
      "batch id: 4200, now finish loss\n",
      "batch id: 4300, now fit into model\n",
      "batch id: 4300, now finish loss\n",
      "batch id: 4400, now fit into model\n",
      "batch id: 4400, now finish loss\n",
      "batch id: 4500, now fit into model\n",
      "batch id: 4500, now finish loss\n",
      "batch id: 4600, now fit into model\n",
      "batch id: 4600, now finish loss\n",
      "############# Epoch 0: Validation Start   #############\n",
      "batch id: 0, now fit into model\n",
      "batch id: 0, now finish loss\n",
      "Epoch: 0 \tAvgerage Training Loss: 0.031312 \tAverage Validation Loss: 0.024697\n",
      "Validation loss decreased (inf --> 0.024697).  Saving model ...\n",
      "############# Epoch 0  Done   #############\n",
      "\n",
      "############# Epoch 1: Training Start   #############\n",
      "batch id: 0, now fit into model\n",
      "batch id: 0, now finish loss\n",
      "batch id: 100, now fit into model\n",
      "batch id: 100, now finish loss\n",
      "batch id: 200, now fit into model\n",
      "batch id: 200, now finish loss\n",
      "batch id: 300, now fit into model\n",
      "batch id: 300, now finish loss\n",
      "batch id: 400, now fit into model\n",
      "batch id: 400, now finish loss\n",
      "batch id: 500, now fit into model\n",
      "batch id: 500, now finish loss\n",
      "batch id: 600, now fit into model\n",
      "batch id: 600, now finish loss\n",
      "batch id: 700, now fit into model\n",
      "batch id: 700, now finish loss\n",
      "batch id: 800, now fit into model\n",
      "batch id: 800, now finish loss\n",
      "batch id: 900, now fit into model\n",
      "batch id: 900, now finish loss\n",
      "batch id: 1000, now fit into model\n",
      "batch id: 1000, now finish loss\n",
      "batch id: 1100, now fit into model\n",
      "batch id: 1100, now finish loss\n",
      "batch id: 1200, now fit into model\n",
      "batch id: 1200, now finish loss\n",
      "batch id: 1300, now fit into model\n",
      "batch id: 1300, now finish loss\n",
      "batch id: 1400, now fit into model\n",
      "batch id: 1400, now finish loss\n",
      "batch id: 1500, now fit into model\n",
      "batch id: 1500, now finish loss\n",
      "batch id: 1600, now fit into model\n",
      "batch id: 1600, now finish loss\n",
      "batch id: 1700, now fit into model\n",
      "batch id: 1700, now finish loss\n",
      "batch id: 1800, now fit into model\n",
      "batch id: 1800, now finish loss\n",
      "batch id: 1900, now fit into model\n",
      "batch id: 1900, now finish loss\n",
      "batch id: 2000, now fit into model\n",
      "batch id: 2000, now finish loss\n",
      "batch id: 2100, now fit into model\n",
      "batch id: 2100, now finish loss\n",
      "batch id: 2200, now fit into model\n",
      "batch id: 2200, now finish loss\n",
      "batch id: 2300, now fit into model\n",
      "batch id: 2300, now finish loss\n",
      "batch id: 2400, now fit into model\n",
      "batch id: 2400, now finish loss\n",
      "batch id: 2500, now fit into model\n",
      "batch id: 2500, now finish loss\n",
      "batch id: 2600, now fit into model\n",
      "batch id: 2600, now finish loss\n",
      "batch id: 2700, now fit into model\n",
      "batch id: 2700, now finish loss\n",
      "batch id: 2800, now fit into model\n",
      "batch id: 2800, now finish loss\n",
      "batch id: 2900, now fit into model\n",
      "batch id: 2900, now finish loss\n",
      "batch id: 3000, now fit into model\n",
      "batch id: 3000, now finish loss\n",
      "batch id: 3100, now fit into model\n",
      "batch id: 3100, now finish loss\n",
      "batch id: 3200, now fit into model\n",
      "batch id: 3200, now finish loss\n",
      "batch id: 3300, now fit into model\n",
      "batch id: 3300, now finish loss\n",
      "batch id: 3400, now fit into model\n",
      "batch id: 3400, now finish loss\n",
      "batch id: 3500, now fit into model\n",
      "batch id: 3500, now finish loss\n",
      "batch id: 3600, now fit into model\n",
      "batch id: 3600, now finish loss\n",
      "batch id: 3700, now fit into model\n",
      "batch id: 3700, now finish loss\n",
      "batch id: 3800, now fit into model\n",
      "batch id: 3800, now finish loss\n",
      "batch id: 3900, now fit into model\n",
      "batch id: 3900, now finish loss\n",
      "batch id: 4000, now fit into model\n",
      "batch id: 4000, now finish loss\n",
      "batch id: 4100, now fit into model\n",
      "batch id: 4100, now finish loss\n",
      "batch id: 4200, now fit into model\n",
      "batch id: 4200, now finish loss\n",
      "batch id: 4300, now fit into model\n",
      "batch id: 4300, now finish loss\n",
      "batch id: 4400, now fit into model\n",
      "batch id: 4400, now finish loss\n",
      "batch id: 4500, now fit into model\n",
      "batch id: 4500, now finish loss\n",
      "batch id: 4600, now fit into model\n",
      "batch id: 4600, now finish loss\n",
      "############# Epoch 1: Validation Start   #############\n",
      "batch id: 0, now fit into model\n",
      "batch id: 0, now finish loss\n",
      "Epoch: 1 \tAvgerage Training Loss: 0.012632 \tAverage Validation Loss: 0.021934\n",
      "Validation loss decreased (0.024697 --> 0.021934).  Saving model ...\n",
      "############# Epoch 1  Done   #############\n",
      "\n",
      "############# Epoch 2: Training Start   #############\n",
      "batch id: 0, now fit into model\n",
      "batch id: 0, now finish loss\n",
      "batch id: 100, now fit into model\n",
      "batch id: 100, now finish loss\n",
      "batch id: 200, now fit into model\n",
      "batch id: 200, now finish loss\n",
      "batch id: 300, now fit into model\n",
      "batch id: 300, now finish loss\n",
      "batch id: 400, now fit into model\n",
      "batch id: 400, now finish loss\n",
      "batch id: 500, now fit into model\n",
      "batch id: 500, now finish loss\n",
      "batch id: 600, now fit into model\n",
      "batch id: 600, now finish loss\n",
      "batch id: 700, now fit into model\n",
      "batch id: 700, now finish loss\n",
      "batch id: 800, now fit into model\n",
      "batch id: 800, now finish loss\n",
      "batch id: 900, now fit into model\n",
      "batch id: 900, now finish loss\n",
      "batch id: 1000, now fit into model\n",
      "batch id: 1000, now finish loss\n",
      "batch id: 1100, now fit into model\n",
      "batch id: 1100, now finish loss\n",
      "batch id: 1200, now fit into model\n",
      "batch id: 1200, now finish loss\n",
      "batch id: 1300, now fit into model\n",
      "batch id: 1300, now finish loss\n",
      "batch id: 1400, now fit into model\n",
      "batch id: 1400, now finish loss\n",
      "batch id: 1500, now fit into model\n",
      "batch id: 1500, now finish loss\n",
      "batch id: 1600, now fit into model\n",
      "batch id: 1600, now finish loss\n",
      "batch id: 1700, now fit into model\n",
      "batch id: 1700, now finish loss\n",
      "batch id: 1800, now fit into model\n",
      "batch id: 1800, now finish loss\n",
      "batch id: 1900, now fit into model\n",
      "batch id: 1900, now finish loss\n",
      "batch id: 2000, now fit into model\n",
      "batch id: 2000, now finish loss\n",
      "batch id: 2100, now fit into model\n",
      "batch id: 2100, now finish loss\n",
      "batch id: 2200, now fit into model\n",
      "batch id: 2200, now finish loss\n",
      "batch id: 2300, now fit into model\n",
      "batch id: 2300, now finish loss\n",
      "batch id: 2400, now fit into model\n",
      "batch id: 2400, now finish loss\n",
      "batch id: 2500, now fit into model\n",
      "batch id: 2500, now finish loss\n",
      "batch id: 2600, now fit into model\n",
      "batch id: 2600, now finish loss\n",
      "batch id: 2700, now fit into model\n",
      "batch id: 2700, now finish loss\n",
      "batch id: 2800, now fit into model\n",
      "batch id: 2800, now finish loss\n",
      "batch id: 2900, now fit into model\n",
      "batch id: 2900, now finish loss\n",
      "batch id: 3000, now fit into model\n",
      "batch id: 3000, now finish loss\n",
      "batch id: 3100, now fit into model\n",
      "batch id: 3100, now finish loss\n",
      "batch id: 3200, now fit into model\n",
      "batch id: 3200, now finish loss\n",
      "batch id: 3300, now fit into model\n",
      "batch id: 3300, now finish loss\n",
      "batch id: 3400, now fit into model\n",
      "batch id: 3400, now finish loss\n",
      "batch id: 3500, now fit into model\n",
      "batch id: 3500, now finish loss\n",
      "batch id: 3600, now fit into model\n",
      "batch id: 3600, now finish loss\n",
      "batch id: 3700, now fit into model\n",
      "batch id: 3700, now finish loss\n",
      "batch id: 3800, now fit into model\n",
      "batch id: 3800, now finish loss\n",
      "batch id: 3900, now fit into model\n",
      "batch id: 3900, now finish loss\n",
      "batch id: 4000, now fit into model\n",
      "batch id: 4000, now finish loss\n",
      "batch id: 4100, now fit into model\n",
      "batch id: 4100, now finish loss\n",
      "batch id: 4200, now fit into model\n",
      "batch id: 4200, now finish loss\n",
      "batch id: 4300, now fit into model\n",
      "batch id: 4300, now finish loss\n",
      "batch id: 4400, now fit into model\n",
      "batch id: 4400, now finish loss\n",
      "batch id: 4500, now fit into model\n",
      "batch id: 4500, now finish loss\n",
      "batch id: 4600, now fit into model\n",
      "batch id: 4600, now finish loss\n",
      "############# Epoch 2: Validation Start   #############\n",
      "batch id: 0, now fit into model\n",
      "batch id: 0, now finish loss\n",
      "Epoch: 2 \tAvgerage Training Loss: 0.008650 \tAverage Validation Loss: 0.020960\n",
      "Validation loss decreased (0.021934 --> 0.020960).  Saving model ...\n",
      "############# Epoch 2  Done   #############\n",
      "\n",
      "############# Epoch 3: Training Start   #############\n",
      "batch id: 0, now fit into model\n",
      "batch id: 0, now finish loss\n",
      "batch id: 100, now fit into model\n",
      "batch id: 100, now finish loss\n",
      "batch id: 200, now fit into model\n",
      "batch id: 200, now finish loss\n",
      "batch id: 300, now fit into model\n",
      "batch id: 300, now finish loss\n",
      "batch id: 400, now fit into model\n",
      "batch id: 400, now finish loss\n",
      "batch id: 500, now fit into model\n",
      "batch id: 500, now finish loss\n",
      "batch id: 600, now fit into model\n",
      "batch id: 600, now finish loss\n",
      "batch id: 700, now fit into model\n",
      "batch id: 700, now finish loss\n",
      "batch id: 800, now fit into model\n",
      "batch id: 800, now finish loss\n",
      "batch id: 900, now fit into model\n",
      "batch id: 900, now finish loss\n",
      "batch id: 1000, now fit into model\n",
      "batch id: 1000, now finish loss\n",
      "batch id: 1100, now fit into model\n",
      "batch id: 1100, now finish loss\n",
      "batch id: 1200, now fit into model\n",
      "batch id: 1200, now finish loss\n",
      "batch id: 1300, now fit into model\n",
      "batch id: 1300, now finish loss\n",
      "batch id: 1400, now fit into model\n",
      "batch id: 1400, now finish loss\n",
      "batch id: 1500, now fit into model\n",
      "batch id: 1500, now finish loss\n",
      "batch id: 1600, now fit into model\n",
      "batch id: 1600, now finish loss\n",
      "batch id: 1700, now fit into model\n",
      "batch id: 1700, now finish loss\n",
      "batch id: 1800, now fit into model\n",
      "batch id: 1800, now finish loss\n",
      "batch id: 1900, now fit into model\n",
      "batch id: 1900, now finish loss\n",
      "batch id: 2000, now fit into model\n",
      "batch id: 2000, now finish loss\n",
      "batch id: 2100, now fit into model\n",
      "batch id: 2100, now finish loss\n",
      "batch id: 2200, now fit into model\n",
      "batch id: 2200, now finish loss\n",
      "batch id: 2300, now fit into model\n",
      "batch id: 2300, now finish loss\n",
      "batch id: 2400, now fit into model\n",
      "batch id: 2400, now finish loss\n",
      "batch id: 2500, now fit into model\n",
      "batch id: 2500, now finish loss\n",
      "batch id: 2600, now fit into model\n",
      "batch id: 2600, now finish loss\n",
      "batch id: 2700, now fit into model\n",
      "batch id: 2700, now finish loss\n",
      "batch id: 2800, now fit into model\n",
      "batch id: 2800, now finish loss\n",
      "batch id: 2900, now fit into model\n",
      "batch id: 2900, now finish loss\n",
      "batch id: 3000, now fit into model\n",
      "batch id: 3000, now finish loss\n",
      "batch id: 3100, now fit into model\n",
      "batch id: 3100, now finish loss\n",
      "batch id: 3200, now fit into model\n",
      "batch id: 3200, now finish loss\n",
      "batch id: 3300, now fit into model\n",
      "batch id: 3300, now finish loss\n",
      "batch id: 3400, now fit into model\n",
      "batch id: 3400, now finish loss\n",
      "batch id: 3500, now fit into model\n",
      "batch id: 3500, now finish loss\n",
      "batch id: 3600, now fit into model\n",
      "batch id: 3600, now finish loss\n",
      "batch id: 3700, now fit into model\n",
      "batch id: 3700, now finish loss\n",
      "batch id: 3800, now fit into model\n",
      "batch id: 3800, now finish loss\n",
      "batch id: 3900, now fit into model\n",
      "batch id: 3900, now finish loss\n",
      "batch id: 4000, now fit into model\n",
      "batch id: 4000, now finish loss\n",
      "batch id: 4100, now fit into model\n",
      "batch id: 4100, now finish loss\n",
      "batch id: 4200, now fit into model\n",
      "batch id: 4200, now finish loss\n",
      "batch id: 4300, now fit into model\n",
      "batch id: 4300, now finish loss\n",
      "batch id: 4400, now fit into model\n",
      "batch id: 4400, now finish loss\n",
      "batch id: 4500, now fit into model\n",
      "batch id: 4500, now finish loss\n",
      "batch id: 4600, now fit into model\n",
      "batch id: 4600, now finish loss\n",
      "############# Epoch 3: Validation Start   #############\n",
      "batch id: 0, now fit into model\n",
      "batch id: 0, now finish loss\n",
      "Epoch: 3 \tAvgerage Training Loss: 0.005595 \tAverage Validation Loss: 0.021010\n",
      "############# Epoch 3  Done   #############\n",
      "\n",
      "############# Epoch 4: Training Start   #############\n",
      "batch id: 0, now fit into model\n",
      "batch id: 0, now finish loss\n",
      "batch id: 100, now fit into model\n",
      "batch id: 100, now finish loss\n",
      "batch id: 200, now fit into model\n",
      "batch id: 200, now finish loss\n",
      "batch id: 300, now fit into model\n",
      "batch id: 300, now finish loss\n",
      "batch id: 400, now fit into model\n",
      "batch id: 400, now finish loss\n",
      "batch id: 500, now fit into model\n",
      "batch id: 500, now finish loss\n",
      "batch id: 600, now fit into model\n",
      "batch id: 600, now finish loss\n",
      "batch id: 700, now fit into model\n",
      "batch id: 700, now finish loss\n",
      "batch id: 800, now fit into model\n",
      "batch id: 800, now finish loss\n",
      "batch id: 900, now fit into model\n",
      "batch id: 900, now finish loss\n",
      "batch id: 1000, now fit into model\n",
      "batch id: 1000, now finish loss\n",
      "batch id: 1100, now fit into model\n",
      "batch id: 1100, now finish loss\n",
      "batch id: 1200, now fit into model\n",
      "batch id: 1200, now finish loss\n",
      "batch id: 1300, now fit into model\n",
      "batch id: 1300, now finish loss\n",
      "batch id: 1400, now fit into model\n",
      "batch id: 1400, now finish loss\n",
      "batch id: 1500, now fit into model\n",
      "batch id: 1500, now finish loss\n",
      "batch id: 1600, now fit into model\n",
      "batch id: 1600, now finish loss\n",
      "batch id: 1700, now fit into model\n",
      "batch id: 1700, now finish loss\n",
      "batch id: 1800, now fit into model\n",
      "batch id: 1800, now finish loss\n",
      "batch id: 1900, now fit into model\n",
      "batch id: 1900, now finish loss\n",
      "batch id: 2000, now fit into model\n",
      "batch id: 2000, now finish loss\n",
      "batch id: 2100, now fit into model\n",
      "batch id: 2100, now finish loss\n",
      "batch id: 2200, now fit into model\n",
      "batch id: 2200, now finish loss\n",
      "batch id: 2300, now fit into model\n",
      "batch id: 2300, now finish loss\n",
      "batch id: 2400, now fit into model\n",
      "batch id: 2400, now finish loss\n",
      "batch id: 2500, now fit into model\n",
      "batch id: 2500, now finish loss\n",
      "batch id: 2600, now fit into model\n",
      "batch id: 2600, now finish loss\n",
      "batch id: 2700, now fit into model\n",
      "batch id: 2700, now finish loss\n",
      "batch id: 2800, now fit into model\n",
      "batch id: 2800, now finish loss\n",
      "batch id: 2900, now fit into model\n",
      "batch id: 2900, now finish loss\n",
      "batch id: 3000, now fit into model\n",
      "batch id: 3000, now finish loss\n",
      "batch id: 3100, now fit into model\n",
      "batch id: 3100, now finish loss\n",
      "batch id: 3200, now fit into model\n",
      "batch id: 3200, now finish loss\n",
      "batch id: 3300, now fit into model\n",
      "batch id: 3300, now finish loss\n",
      "batch id: 3400, now fit into model\n",
      "batch id: 3400, now finish loss\n",
      "batch id: 3500, now fit into model\n",
      "batch id: 3500, now finish loss\n",
      "batch id: 3600, now fit into model\n",
      "batch id: 3600, now finish loss\n",
      "batch id: 3700, now fit into model\n",
      "batch id: 3700, now finish loss\n",
      "batch id: 3800, now fit into model\n",
      "batch id: 3800, now finish loss\n",
      "batch id: 3900, now fit into model\n",
      "batch id: 3900, now finish loss\n",
      "batch id: 4000, now fit into model\n",
      "batch id: 4000, now finish loss\n",
      "batch id: 4100, now fit into model\n",
      "batch id: 4100, now finish loss\n",
      "batch id: 4200, now fit into model\n",
      "batch id: 4200, now finish loss\n",
      "batch id: 4300, now fit into model\n",
      "batch id: 4300, now finish loss\n",
      "batch id: 4400, now fit into model\n",
      "batch id: 4400, now finish loss\n",
      "batch id: 4500, now fit into model\n",
      "batch id: 4500, now finish loss\n",
      "batch id: 4600, now fit into model\n",
      "batch id: 4600, now finish loss\n",
      "############# Epoch 4: Validation Start   #############\n",
      "batch id: 0, now fit into model\n",
      "batch id: 0, now finish loss\n",
      "Epoch: 4 \tAvgerage Training Loss: 0.003382 \tAverage Validation Loss: 0.020917\n",
      "Validation loss decreased (0.020960 --> 0.020917).  Saving model ...\n",
      "############# Epoch 4  Done   #############\n",
      "\n"
     ]
    }
   ],
   "source": [
    "model.to(device)\n",
    "\n",
    "from tqdm.auto import tqdm\n",
    "import math\n",
    "\n",
    "progress_bar = tqdm(range(num_training_steps))\n",
    "\n",
    "valid_loss_min = np.Inf  # initialize tracker for minimum validation loss\n",
    "checkpoint_path = 'CXR_BioClinicalBERT_Class/current_checkpoint.pt'\n",
    "best_model_path = 'CXR_BioClinicalBERT_Class/best_model.pt'\n",
    "\n",
    "\n",
    "for epoch in range(num_train_epochs): \n",
    "    \n",
    "    train_loss = 0\n",
    "    valid_loss = 0\n",
    "    \n",
    "    # Training\n",
    "    model.train()\n",
    "    print('############# Epoch {}: Training Start   #############'.format(epoch))\n",
    "    \n",
    "    for batch_idx, data in enumerate(train_dataloader):\n",
    "        # optional - see Accelerate documentation \n",
    "#         ids = data[\"input_ids\"].to(device, dtype = torch.long)\n",
    "#         mask = data['attention_mask'].to(device, dtype = torch.long)\n",
    "        targets = data['labels'].to(device, dtype = torch.float)\n",
    "        ids = data[\"input_ids\"]\n",
    "        mask = data['attention_mask']\n",
    "#         targets = data['labels']\n",
    "        \n",
    "        if batch_idx%100==0:\n",
    "            print(f'batch id: {batch_idx}, now fit into model')\n",
    "\n",
    "        outputs = model(ids, mask)\n",
    "        \n",
    "        optimizer.zero_grad()\n",
    "        loss = loss_fn(outputs, targets)\n",
    "        \n",
    "        if batch_idx%100==0:\n",
    "            print(f'batch id: {batch_idx}, now finish loss')\n",
    "        \n",
    "        optimizer.zero_grad()\n",
    "        accelerator.backward(loss)\n",
    "        optimizer.step()\n",
    "        lr_scheduler.step()\n",
    "        \n",
    "        progress_bar.update(1)\n",
    "        train_loss = train_loss + ((1 / (batch_idx + 1)) * (loss.item() - train_loss))\n",
    "        \n",
    "    \n",
    "    print('############# Epoch {}: Validation Start   #############'.format(epoch))\n",
    "    \n",
    "    \n",
    "    # Evaluation\n",
    "    model.eval()\n",
    "    losses = []\n",
    "    \n",
    "    with torch.no_grad():\n",
    "        for batch_idx, data in enumerate(eval_dataloader):\n",
    "#             ids = data[\"input_ids\"].to(device, dtype = torch.long)\n",
    "#             mask = data['attention_mask'].to(device, dtype = torch.long)\n",
    "            targets = data['labels'].to(device, dtype = torch.float)\n",
    "            ids = data[\"input_ids\"]\n",
    "            mask = data['attention_mask']\n",
    "#             targets = data['labels']\n",
    "            \n",
    "            if batch_idx%100==0:\n",
    "                print(f'batch id: {batch_idx}, now fit into model')\n",
    "            \n",
    "            outputs = model(ids, mask)\n",
    "\n",
    "            loss = loss_fn(outputs, targets)\n",
    "            losses.append(accelerator.gather(loss.repeat(batch_size)))\n",
    "            \n",
    "            if batch_idx%100==0:\n",
    "                print(f'batch id: {batch_idx}, now finish loss')\n",
    "\n",
    "            valid_loss = valid_loss + ((1 / (batch_idx + 1)) * (loss.item() - valid_loss))\n",
    "            val_targets.extend(targets.cpu().detach().numpy().tolist())\n",
    "            val_outputs.extend(torch.sigmoid(outputs).cpu().detach().numpy().tolist())\n",
    "\n",
    "    losses = torch.cat(losses)\n",
    "    losses = losses[: len(padded_dataset[\"test\"][\"input_ids\"])]\n",
    "    \n",
    "    print('Epoch: {} \\tAvgerage Training Loss: {:.6f} \\tAverage Validation Loss: {:.6f}'.format(\n",
    "            epoch, \n",
    "            train_loss,\n",
    "            valid_loss\n",
    "            ))\n",
    "    \n",
    "    # Save and upload\n",
    "    accelerator.wait_for_everyone()\n",
    "    unwrapped_model = accelerator.unwrap_model(model)\n",
    "    \n",
    "    checkpoint = {\n",
    "        'epoch': epoch+1,\n",
    "        'valid_loss_min': valid_loss,\n",
    "        'state_dict': unwrapped_model.state_dict(),\n",
    "        'optimizer': optimizer.state_dict(),\n",
    "    }\n",
    "    \n",
    "    # save checkpoint\n",
    "    save_ckp(checkpoint, False, checkpoint_path, best_model_path)\n",
    "    \n",
    "    # Save the model to best_model_path if validation loss has decreased\n",
    "    if valid_loss <= valid_loss_min:\n",
    "        print('Validation loss decreased ({:.6f} --> {:.6f}).  Saving model ...'.format(valid_loss_min,valid_loss))\n",
    "        # save checkpoint as best model\n",
    "        save_ckp(checkpoint, True, checkpoint_path, best_model_path)\n",
    "        valid_loss_min = valid_loss\n",
    "    \n",
    "    print('############# Epoch {}  Done   #############\\n'.format(epoch))\n",
    "    \n",
    "#     unwrapped_model.save_pretrained(output_dir, save_function=accelerator.save)\n",
    "#     if accelerator.is_main_process:\n",
    "#         tokenizer.save_pretrained(output_dir)\n",
    "#         repo.push_to_hub(\n",
    "#             commit_message=f\"Training in progress epoch {epoch}\", blocking=False\n",
    "#         )"
   ]
  },
  {
   "cell_type": "markdown",
   "id": "b87df3e9",
   "metadata": {},
   "source": [
    "### Evaluation metrics"
   ]
  },
  {
   "cell_type": "code",
   "execution_count": 38,
   "id": "68d04bee",
   "metadata": {},
   "outputs": [
    {
     "data": {
      "text/plain": [
       "array([[0, 0, 0, ..., 0, 0, 1],\n",
       "       [0, 0, 0, ..., 0, 0, 1],\n",
       "       [0, 0, 0, ..., 0, 0, 1],\n",
       "       ...,\n",
       "       [0, 0, 0, ..., 0, 0, 0],\n",
       "       [0, 0, 0, ..., 0, 0, 0],\n",
       "       [0, 0, 0, ..., 0, 0, 1]])"
      ]
     },
     "execution_count": 38,
     "metadata": {},
     "output_type": "execute_result"
    }
   ],
   "source": [
    "val_preds = (np.array(val_outputs) > 0.5).astype(int)\n",
    "val_preds"
   ]
  },
  {
   "cell_type": "code",
   "execution_count": 39,
   "id": "8687dba1",
   "metadata": {},
   "outputs": [
    {
     "name": "stdout",
     "output_type": "stream",
     "text": [
      "Accuracy Score = 0.9378028169014084\n",
      "F1 Score (Micro) = 0.9787094446084702\n",
      "F1 Score (Macro) = 0.9677243649449839\n"
     ]
    }
   ],
   "source": [
    "from sklearn import metrics\n",
    "\n",
    "accuracy = metrics.accuracy_score(val_targets, val_preds)\n",
    "f1_score_micro = metrics.f1_score(val_targets, val_preds, average='micro')\n",
    "f1_score_macro = metrics.f1_score(val_targets, val_preds, average='macro')\n",
    "print(f\"Accuracy Score = {accuracy}\")\n",
    "print(f\"F1 Score (Micro) = {f1_score_micro}\")\n",
    "print(f\"F1 Score (Macro) = {f1_score_macro}\")"
   ]
  },
  {
   "cell_type": "code",
   "execution_count": 40,
   "id": "d24bbc9d",
   "metadata": {},
   "outputs": [],
   "source": [
    "from sklearn.metrics import multilabel_confusion_matrix as mcm, classification_report"
   ]
  },
  {
   "cell_type": "code",
   "execution_count": 41,
   "id": "1f5fa661",
   "metadata": {},
   "outputs": [
    {
     "name": "stdout",
     "output_type": "stream",
     "text": [
      "              precision    recall  f1-score   support\n",
      "\n",
      "           0       0.99      0.97      0.98      2425\n",
      "           1       0.98      0.99      0.99      1960\n",
      "           2       0.97      0.95      0.96       475\n",
      "           3       0.99      1.00      0.99      1660\n",
      "           4       0.89      0.89      0.89       325\n",
      "           5       0.99      1.00      0.99       220\n",
      "           6       0.92      0.97      0.95       200\n",
      "           7       0.98      0.99      0.99      2275\n",
      "           8       0.98      0.99      0.99      2600\n",
      "           9       0.96      1.00      0.98       185\n",
      "          10       0.95      0.92      0.93       725\n",
      "          11       0.98      0.96      0.97       130\n",
      "          12       0.98      0.97      0.98      2065\n",
      "\n",
      "   micro avg       0.98      0.98      0.98     15245\n",
      "   macro avg       0.97      0.97      0.97     15245\n",
      "weighted avg       0.98      0.98      0.98     15245\n",
      " samples avg       0.93      0.93      0.93     15245\n",
      "\n"
     ]
    }
   ],
   "source": [
    "print(classification_report(val_targets, val_preds))"
   ]
  },
  {
   "cell_type": "code",
   "execution_count": 42,
   "id": "f9f91a47",
   "metadata": {},
   "outputs": [],
   "source": [
    "import seaborn as sns\n",
    "\n",
    "\n",
    "def print_confusion_matrix(confusion_matrix, axes, class_label, class_names, fontsize=14):\n",
    "\n",
    "    df_cm = pd.DataFrame(\n",
    "        confusion_matrix, index=class_names, columns=class_names,\n",
    "    )\n",
    "\n",
    "    try:\n",
    "        heatmap = sns.heatmap(df_cm, annot=True, fmt=\"d\", cbar=False, ax=axes)\n",
    "    except ValueError:\n",
    "        raise ValueError(\"Confusion matrix values must be integers.\")\n",
    "        \n",
    "    heatmap.yaxis.set_ticklabels(heatmap.yaxis.get_ticklabels(), rotation=0, ha='right', fontsize=fontsize)\n",
    "    heatmap.xaxis.set_ticklabels(heatmap.xaxis.get_ticklabels(), rotation=0, ha='right', fontsize=fontsize)\n",
    "    axes.set_xlabel('True label')\n",
    "    axes.set_ylabel('Predicted label')\n",
    "    axes.set_title(\"Confusion Matrix for the class - \" + class_label)"
   ]
  },
  {
   "cell_type": "code",
   "execution_count": 46,
   "id": "e2311217",
   "metadata": {},
   "outputs": [
    {
     "data": {
      "image/png": "[encoded data removed]",
      "text/plain": [
       "<Figure size 1008x720 with 15 Axes>"
      ]
     },
     "metadata": {},
     "output_type": "display_data"
    }
   ],
   "source": [
    "cm_labels = ['Atelectasis', 'Cardiomegaly', 'Consolidation', 'Edema', 'Enlarged Cardiomediastinum', 'Fracture', \n",
    "            'Lung Lesion', 'Lung Opacity', 'No Finding', 'Pleural Effusion', 'Pleural Other', 'Pneumonia', 'Pneumothorax']\n",
    "# OMG wrong order here... should be pleural effusion -> pneumothroax -> penumonia -> pleural other -> no findings\n",
    "    \n",
    "cm = mcm(val_targets, val_preds)\n",
    "\n",
    "#print_confusion_matrix(mcm(targets, val_preds),class_label=labels, class_names=labels)\n",
    "sns.set_style(\"whitegrid\")\n",
    "fig, ax = plt.subplots(5, 3, figsize=(14, 10))\n",
    "for axes, cfs_matrix, label in zip(ax.flatten(), cm, cm_labels):\n",
    "    print_confusion_matrix(cfs_matrix, axes, label, [\"0\", \"1\"])\n",
    "    \n",
    "fig.tight_layout()\n",
    "plt.show()"
   ]
  },
  {
   "cell_type": "markdown",
   "id": "484adbb7",
   "metadata": {},
   "source": [
    "### Prediction (without using pipeline) - load the trained model weights\n",
    "- Just change and run this part for prediction"
   ]
  },
  {
   "cell_type": "code",
   "execution_count": 2,
   "id": "f97562ca",
   "metadata": {},
   "outputs": [],
   "source": [
    "tokenizer = AutoTokenizer.from_pretrained(\"ICLbioengNLP/CXR_BioClinicalBERT_chunkedv1\")"
   ]
  },
  {
   "cell_type": "code",
   "execution_count": 3,
   "id": "0262db81",
   "metadata": {},
   "outputs": [],
   "source": [
    "class PredBERTClass(torch.nn.Module):\n",
    "    def __init__(self):\n",
    "        super(PredBERTClass, self).__init__()\n",
    "        self.bert = AutoModel.from_pretrained(\"ICLbioengNLP/CXR_BioClinicalBERT_chunkedv1\") \n",
    "        self.dropout = torch.nn.Dropout(0.3) # dunno if this work, forget about it now\n",
    "        self.classifier = torch.nn.Linear(768, 13) # 768 and 13 are fixed in our case\n",
    "    \n",
    "    def forward(self, input_ids, mask):\n",
    "        _, pooled_output = self.bert(input_ids = input_ids, attention_mask = mask, return_dict = False) # dun need word_id and token_type_id I think\n",
    "        output = self.dropout(pooled_output)\n",
    "        output = self.classifier(output)\n",
    "        output = torch.sigmoid(output)\n",
    "        return output"
   ]
  },
  {
   "cell_type": "code",
   "execution_count": 6,
   "id": "2a6fe545",
   "metadata": {},
   "outputs": [
    {
     "name": "stderr",
     "output_type": "stream",
     "text": [
      "Some weights of the model checkpoint at ICLbioengNLP/CXR_BioClinicalBERT_chunkedv1 were not used when initializing BertModel: ['cls.predictions.transform.dense.weight', 'cls.predictions.decoder.bias', 'cls.predictions.bias', 'cls.predictions.decoder.weight', 'cls.predictions.transform.LayerNorm.weight', 'cls.predictions.transform.LayerNorm.bias', 'cls.predictions.transform.dense.bias']\n",
      "- This IS expected if you are initializing BertModel from the checkpoint of a model trained on another task or with another architecture (e.g. initializing a BertForSequenceClassification model from a BertForPreTraining model).\n",
      "- This IS NOT expected if you are initializing BertModel from the checkpoint of a model that you expect to be exactly identical (initializing a BertForSequenceClassification model from a BertForSequenceClassification model).\n",
      "Some weights of BertModel were not initialized from the model checkpoint at ICLbioengNLP/CXR_BioClinicalBERT_chunkedv1 and are newly initialized: ['bert.pooler.dense.weight', 'bert.pooler.dense.bias']\n",
      "You should probably TRAIN this model on a down-stream task to be able to use it for predictions and inference.\n"
     ]
    },
    {
     "data": {
      "text/plain": [
       "PredBERTClass(\n",
       "  (bert): BertModel(\n",
       "    (embeddings): BertEmbeddings(\n",
       "      (word_embeddings): Embedding(28996, 768, padding_idx=0)\n",
       "      (position_embeddings): Embedding(512, 768)\n",
       "      (token_type_embeddings): Embedding(2, 768)\n",
       "      (LayerNorm): LayerNorm((768,), eps=1e-12, elementwise_affine=True)\n",
       "      (dropout): Dropout(p=0.1, inplace=False)\n",
       "    )\n",
       "    (encoder): BertEncoder(\n",
       "      (layer): ModuleList(\n",
       "        (0): BertLayer(\n",
       "          (attention): BertAttention(\n",
       "            (self): BertSelfAttention(\n",
       "              (query): Linear(in_features=768, out_features=768, bias=True)\n",
       "              (key): Linear(in_features=768, out_features=768, bias=True)\n",
       "              (value): Linear(in_features=768, out_features=768, bias=True)\n",
       "              (dropout): Dropout(p=0.1, inplace=False)\n",
       "            )\n",
       "            (output): BertSelfOutput(\n",
       "              (dense): Linear(in_features=768, out_features=768, bias=True)\n",
       "              (LayerNorm): LayerNorm((768,), eps=1e-12, elementwise_affine=True)\n",
       "              (dropout): Dropout(p=0.1, inplace=False)\n",
       "            )\n",
       "          )\n",
       "          (intermediate): BertIntermediate(\n",
       "            (dense): Linear(in_features=768, out_features=3072, bias=True)\n",
       "          )\n",
       "          (output): BertOutput(\n",
       "            (dense): Linear(in_features=3072, out_features=768, bias=True)\n",
       "            (LayerNorm): LayerNorm((768,), eps=1e-12, elementwise_affine=True)\n",
       "            (dropout): Dropout(p=0.1, inplace=False)\n",
       "          )\n",
       "        )\n",
       "        (1): BertLayer(\n",
       "          (attention): BertAttention(\n",
       "            (self): BertSelfAttention(\n",
       "              (query): Linear(in_features=768, out_features=768, bias=True)\n",
       "              (key): Linear(in_features=768, out_features=768, bias=True)\n",
       "              (value): Linear(in_features=768, out_features=768, bias=True)\n",
       "              (dropout): Dropout(p=0.1, inplace=False)\n",
       "            )\n",
       "            (output): BertSelfOutput(\n",
       "              (dense): Linear(in_features=768, out_features=768, bias=True)\n",
       "              (LayerNorm): LayerNorm((768,), eps=1e-12, elementwise_affine=True)\n",
       "              (dropout): Dropout(p=0.1, inplace=False)\n",
       "            )\n",
       "          )\n",
       "          (intermediate): BertIntermediate(\n",
       "            (dense): Linear(in_features=768, out_features=3072, bias=True)\n",
       "          )\n",
       "          (output): BertOutput(\n",
       "            (dense): Linear(in_features=3072, out_features=768, bias=True)\n",
       "            (LayerNorm): LayerNorm((768,), eps=1e-12, elementwise_affine=True)\n",
       "            (dropout): Dropout(p=0.1, inplace=False)\n",
       "          )\n",
       "        )\n",
       "        (2): BertLayer(\n",
       "          (attention): BertAttention(\n",
       "            (self): BertSelfAttention(\n",
       "              (query): Linear(in_features=768, out_features=768, bias=True)\n",
       "              (key): Linear(in_features=768, out_features=768, bias=True)\n",
       "              (value): Linear(in_features=768, out_features=768, bias=True)\n",
       "              (dropout): Dropout(p=0.1, inplace=False)\n",
       "            )\n",
       "            (output): BertSelfOutput(\n",
       "              (dense): Linear(in_features=768, out_features=768, bias=True)\n",
       "              (LayerNorm): LayerNorm((768,), eps=1e-12, elementwise_affine=True)\n",
       "              (dropout): Dropout(p=0.1, inplace=False)\n",
       "            )\n",
       "          )\n",
       "          (intermediate): BertIntermediate(\n",
       "            (dense): Linear(in_features=768, out_features=3072, bias=True)\n",
       "          )\n",
       "          (output): BertOutput(\n",
       "            (dense): Linear(in_features=3072, out_features=768, bias=True)\n",
       "            (LayerNorm): LayerNorm((768,), eps=1e-12, elementwise_affine=True)\n",
       "            (dropout): Dropout(p=0.1, inplace=False)\n",
       "          )\n",
       "        )\n",
       "        (3): BertLayer(\n",
       "          (attention): BertAttention(\n",
       "            (self): BertSelfAttention(\n",
       "              (query): Linear(in_features=768, out_features=768, bias=True)\n",
       "              (key): Linear(in_features=768, out_features=768, bias=True)\n",
       "              (value): Linear(in_features=768, out_features=768, bias=True)\n",
       "              (dropout): Dropout(p=0.1, inplace=False)\n",
       "            )\n",
       "            (output): BertSelfOutput(\n",
       "              (dense): Linear(in_features=768, out_features=768, bias=True)\n",
       "              (LayerNorm): LayerNorm((768,), eps=1e-12, elementwise_affine=True)\n",
       "              (dropout): Dropout(p=0.1, inplace=False)\n",
       "            )\n",
       "          )\n",
       "          (intermediate): BertIntermediate(\n",
       "            (dense): Linear(in_features=768, out_features=3072, bias=True)\n",
       "          )\n",
       "          (output): BertOutput(\n",
       "            (dense): Linear(in_features=3072, out_features=768, bias=True)\n",
       "            (LayerNorm): LayerNorm((768,), eps=1e-12, elementwise_affine=True)\n",
       "            (dropout): Dropout(p=0.1, inplace=False)\n",
       "          )\n",
       "        )\n",
       "        (4): BertLayer(\n",
       "          (attention): BertAttention(\n",
       "            (self): BertSelfAttention(\n",
       "              (query): Linear(in_features=768, out_features=768, bias=True)\n",
       "              (key): Linear(in_features=768, out_features=768, bias=True)\n",
       "              (value): Linear(in_features=768, out_features=768, bias=True)\n",
       "              (dropout): Dropout(p=0.1, inplace=False)\n",
       "            )\n",
       "            (output): BertSelfOutput(\n",
       "              (dense): Linear(in_features=768, out_features=768, bias=True)\n",
       "              (LayerNorm): LayerNorm((768,), eps=1e-12, elementwise_affine=True)\n",
       "              (dropout): Dropout(p=0.1, inplace=False)\n",
       "            )\n",
       "          )\n",
       "          (intermediate): BertIntermediate(\n",
       "            (dense): Linear(in_features=768, out_features=3072, bias=True)\n",
       "          )\n",
       "          (output): BertOutput(\n",
       "            (dense): Linear(in_features=3072, out_features=768, bias=True)\n",
       "            (LayerNorm): LayerNorm((768,), eps=1e-12, elementwise_affine=True)\n",
       "            (dropout): Dropout(p=0.1, inplace=False)\n",
       "          )\n",
       "        )\n",
       "        (5): BertLayer(\n",
       "          (attention): BertAttention(\n",
       "            (self): BertSelfAttention(\n",
       "              (query): Linear(in_features=768, out_features=768, bias=True)\n",
       "              (key): Linear(in_features=768, out_features=768, bias=True)\n",
       "              (value): Linear(in_features=768, out_features=768, bias=True)\n",
       "              (dropout): Dropout(p=0.1, inplace=False)\n",
       "            )\n",
       "            (output): BertSelfOutput(\n",
       "              (dense): Linear(in_features=768, out_features=768, bias=True)\n",
       "              (LayerNorm): LayerNorm((768,), eps=1e-12, elementwise_affine=True)\n",
       "              (dropout): Dropout(p=0.1, inplace=False)\n",
       "            )\n",
       "          )\n",
       "          (intermediate): BertIntermediate(\n",
       "            (dense): Linear(in_features=768, out_features=3072, bias=True)\n",
       "          )\n",
       "          (output): BertOutput(\n",
       "            (dense): Linear(in_features=3072, out_features=768, bias=True)\n",
       "            (LayerNorm): LayerNorm((768,), eps=1e-12, elementwise_affine=True)\n",
       "            (dropout): Dropout(p=0.1, inplace=False)\n",
       "          )\n",
       "        )\n",
       "        (6): BertLayer(\n",
       "          (attention): BertAttention(\n",
       "            (self): BertSelfAttention(\n",
       "              (query): Linear(in_features=768, out_features=768, bias=True)\n",
       "              (key): Linear(in_features=768, out_features=768, bias=True)\n",
       "              (value): Linear(in_features=768, out_features=768, bias=True)\n",
       "              (dropout): Dropout(p=0.1, inplace=False)\n",
       "            )\n",
       "            (output): BertSelfOutput(\n",
       "              (dense): Linear(in_features=768, out_features=768, bias=True)\n",
       "              (LayerNorm): LayerNorm((768,), eps=1e-12, elementwise_affine=True)\n",
       "              (dropout): Dropout(p=0.1, inplace=False)\n",
       "            )\n",
       "          )\n",
       "          (intermediate): BertIntermediate(\n",
       "            (dense): Linear(in_features=768, out_features=3072, bias=True)\n",
       "          )\n",
       "          (output): BertOutput(\n",
       "            (dense): Linear(in_features=3072, out_features=768, bias=True)\n",
       "            (LayerNorm): LayerNorm((768,), eps=1e-12, elementwise_affine=True)\n",
       "            (dropout): Dropout(p=0.1, inplace=False)\n",
       "          )\n",
       "        )\n",
       "        (7): BertLayer(\n",
       "          (attention): BertAttention(\n",
       "            (self): BertSelfAttention(\n",
       "              (query): Linear(in_features=768, out_features=768, bias=True)\n",
       "              (key): Linear(in_features=768, out_features=768, bias=True)\n",
       "              (value): Linear(in_features=768, out_features=768, bias=True)\n",
       "              (dropout): Dropout(p=0.1, inplace=False)\n",
       "            )\n",
       "            (output): BertSelfOutput(\n",
       "              (dense): Linear(in_features=768, out_features=768, bias=True)\n",
       "              (LayerNorm): LayerNorm((768,), eps=1e-12, elementwise_affine=True)\n",
       "              (dropout): Dropout(p=0.1, inplace=False)\n",
       "            )\n",
       "          )\n",
       "          (intermediate): BertIntermediate(\n",
       "            (dense): Linear(in_features=768, out_features=3072, bias=True)\n",
       "          )\n",
       "          (output): BertOutput(\n",
       "            (dense): Linear(in_features=3072, out_features=768, bias=True)\n",
       "            (LayerNorm): LayerNorm((768,), eps=1e-12, elementwise_affine=True)\n",
       "            (dropout): Dropout(p=0.1, inplace=False)\n",
       "          )\n",
       "        )\n",
       "        (8): BertLayer(\n",
       "          (attention): BertAttention(\n",
       "            (self): BertSelfAttention(\n",
       "              (query): Linear(in_features=768, out_features=768, bias=True)\n",
       "              (key): Linear(in_features=768, out_features=768, bias=True)\n",
       "              (value): Linear(in_features=768, out_features=768, bias=True)\n",
       "              (dropout): Dropout(p=0.1, inplace=False)\n",
       "            )\n",
       "            (output): BertSelfOutput(\n",
       "              (dense): Linear(in_features=768, out_features=768, bias=True)\n",
       "              (LayerNorm): LayerNorm((768,), eps=1e-12, elementwise_affine=True)\n",
       "              (dropout): Dropout(p=0.1, inplace=False)\n",
       "            )\n",
       "          )\n",
       "          (intermediate): BertIntermediate(\n",
       "            (dense): Linear(in_features=768, out_features=3072, bias=True)\n",
       "          )\n",
       "          (output): BertOutput(\n",
       "            (dense): Linear(in_features=3072, out_features=768, bias=True)\n",
       "            (LayerNorm): LayerNorm((768,), eps=1e-12, elementwise_affine=True)\n",
       "            (dropout): Dropout(p=0.1, inplace=False)\n",
       "          )\n",
       "        )\n",
       "        (9): BertLayer(\n",
       "          (attention): BertAttention(\n",
       "            (self): BertSelfAttention(\n",
       "              (query): Linear(in_features=768, out_features=768, bias=True)\n",
       "              (key): Linear(in_features=768, out_features=768, bias=True)\n",
       "              (value): Linear(in_features=768, out_features=768, bias=True)\n",
       "              (dropout): Dropout(p=0.1, inplace=False)\n",
       "            )\n",
       "            (output): BertSelfOutput(\n",
       "              (dense): Linear(in_features=768, out_features=768, bias=True)\n",
       "              (LayerNorm): LayerNorm((768,), eps=1e-12, elementwise_affine=True)\n",
       "              (dropout): Dropout(p=0.1, inplace=False)\n",
       "            )\n",
       "          )\n",
       "          (intermediate): BertIntermediate(\n",
       "            (dense): Linear(in_features=768, out_features=3072, bias=True)\n",
       "          )\n",
       "          (output): BertOutput(\n",
       "            (dense): Linear(in_features=3072, out_features=768, bias=True)\n",
       "            (LayerNorm): LayerNorm((768,), eps=1e-12, elementwise_affine=True)\n",
       "            (dropout): Dropout(p=0.1, inplace=False)\n",
       "          )\n",
       "        )\n",
       "        (10): BertLayer(\n",
       "          (attention): BertAttention(\n",
       "            (self): BertSelfAttention(\n",
       "              (query): Linear(in_features=768, out_features=768, bias=True)\n",
       "              (key): Linear(in_features=768, out_features=768, bias=True)\n",
       "              (value): Linear(in_features=768, out_features=768, bias=True)\n",
       "              (dropout): Dropout(p=0.1, inplace=False)\n",
       "            )\n",
       "            (output): BertSelfOutput(\n",
       "              (dense): Linear(in_features=768, out_features=768, bias=True)\n",
       "              (LayerNorm): LayerNorm((768,), eps=1e-12, elementwise_affine=True)\n",
       "              (dropout): Dropout(p=0.1, inplace=False)\n",
       "            )\n",
       "          )\n",
       "          (intermediate): BertIntermediate(\n",
       "            (dense): Linear(in_features=768, out_features=3072, bias=True)\n",
       "          )\n",
       "          (output): BertOutput(\n",
       "            (dense): Linear(in_features=3072, out_features=768, bias=True)\n",
       "            (LayerNorm): LayerNorm((768,), eps=1e-12, elementwise_affine=True)\n",
       "            (dropout): Dropout(p=0.1, inplace=False)\n",
       "          )\n",
       "        )\n",
       "        (11): BertLayer(\n",
       "          (attention): BertAttention(\n",
       "            (self): BertSelfAttention(\n",
       "              (query): Linear(in_features=768, out_features=768, bias=True)\n",
       "              (key): Linear(in_features=768, out_features=768, bias=True)\n",
       "              (value): Linear(in_features=768, out_features=768, bias=True)\n",
       "              (dropout): Dropout(p=0.1, inplace=False)\n",
       "            )\n",
       "            (output): BertSelfOutput(\n",
       "              (dense): Linear(in_features=768, out_features=768, bias=True)\n",
       "              (LayerNorm): LayerNorm((768,), eps=1e-12, elementwise_affine=True)\n",
       "              (dropout): Dropout(p=0.1, inplace=False)\n",
       "            )\n",
       "          )\n",
       "          (intermediate): BertIntermediate(\n",
       "            (dense): Linear(in_features=768, out_features=3072, bias=True)\n",
       "          )\n",
       "          (output): BertOutput(\n",
       "            (dense): Linear(in_features=3072, out_features=768, bias=True)\n",
       "            (LayerNorm): LayerNorm((768,), eps=1e-12, elementwise_affine=True)\n",
       "            (dropout): Dropout(p=0.1, inplace=False)\n",
       "          )\n",
       "        )\n",
       "      )\n",
       "    )\n",
       "    (pooler): BertPooler(\n",
       "      (dense): Linear(in_features=768, out_features=768, bias=True)\n",
       "      (activation): Tanh()\n",
       "    )\n",
       "  )\n",
       "  (dropout): Dropout(p=0.3, inplace=False)\n",
       "  (classifier): Linear(in_features=768, out_features=13, bias=True)\n",
       ")"
      ]
     },
     "execution_count": 6,
     "metadata": {},
     "output_type": "execute_result"
    }
   ],
   "source": [
    "from torch.optim import AdamW\n",
    "\n",
    "trained_model = PredBERTClass()\n",
    "trained_optimizer = AdamW(trained_model.parameters(), lr=5e-5)\n",
    "\n",
    "best_model_path = 'CXR_BioClinicalBERT_Class/best_model.pt'\n",
    "\n",
    "checkpoint = torch.load(best_model_path, map_location=\"cpu\")\n",
    "trained_model.load_state_dict(checkpoint['state_dict'])\n",
    "trained_optimizer.load_state_dict(checkpoint['optimizer'])\n",
    "epoch = checkpoint['epoch']\n",
    "loss = checkpoint['valid_loss_min']\n",
    "\n",
    "trained_model.eval()"
   ]
  },
  {
   "cell_type": "code",
   "execution_count": 7,
   "id": "04349f5c",
   "metadata": {},
   "outputs": [],
   "source": [
    "targeted_index = 29   # from 0 to 164\n",
    "section = \"impression\" # impression or findings"
   ]
  },
  {
   "cell_type": "code",
   "execution_count": 8,
   "id": "4a5b2de3",
   "metadata": {},
   "outputs": [
    {
     "name": "stdout",
     "output_type": "stream",
     "text": [
      "164\n"
     ]
    }
   ],
   "source": [
    "testing_df = pd.read_csv('final_samples.csv')\n",
    "testing_df = testing_df.drop('Unnamed: 0', 1)\n",
    "print(len(testing_df[\"study_id\"].tolist()))\n",
    "\n",
    "sample_dataset = dict.fromkeys([\"study_id\", \"diagnosis\", \"diagnosis_id\", \"impression\", \"findings\"])\n",
    "sample_dataset[\"study_id\"] = testing_df[\"study_id\"].tolist()\n",
    "sample_dataset[\"diagnosis\"] = testing_df[\"diagnosis\"].tolist()\n",
    "sample_dataset[\"diagnosis_id\"] = testing_df[\"diagnosis_id\"].tolist()\n",
    "sample_dataset[\"impression\"] = testing_df[\"impression\"].tolist()\n",
    "sample_dataset[\"findings\"] = testing_df[\"findings\"].tolist()"
   ]
  },
  {
   "cell_type": "code",
   "execution_count": 9,
   "id": "6c6f064c",
   "metadata": {},
   "outputs": [
    {
     "name": "stdout",
     "output_type": "stream",
     "text": [
      "Cardiomegaly\n"
     ]
    }
   ],
   "source": [
    "targeted_id = sample_dataset[\"study_id\"][targeted_index]\n",
    "targeted_diag = sample_dataset[\"diagnosis\"][targeted_index]\n",
    "targeted_diag_id = sample_dataset[\"diagnosis_id\"][targeted_index]\n",
    "targeted_imp = sample_dataset[\"impression\"][targeted_index]\n",
    "targeted_find = sample_dataset[\"findings\"][targeted_index]\n",
    "print(targeted_diag)"
   ]
  },
  {
   "cell_type": "code",
   "execution_count": 10,
   "id": "ba2592fb",
   "metadata": {},
   "outputs": [],
   "source": [
    "if section == \"impression\":\n",
    "    report = targeted_imp\n",
    "\n",
    "if section == \"findings\":\n",
    "    report = targeted_find\n",
    "\n",
    "# tokenize sentence and append to dictionary lists\n",
    "new_tokens = tokenizer.encode_plus(report, max_length=128, truncation=True,\n",
    "                                   padding='max_length', return_tensors='pt')\n",
    "t_ids = new_tokens['input_ids']\n",
    "t_mask = new_tokens['attention_mask']"
   ]
  },
  {
   "cell_type": "code",
   "execution_count": 11,
   "id": "a8340a26",
   "metadata": {},
   "outputs": [
    {
     "name": "stdout",
     "output_type": "stream",
     "text": [
      "tensor([[  101,  5199,  3621,  2660,  3263,  6997,  1183,  1110, 16684,   117,\n",
      "          1175,  1110,  1185,  5048, 14494,  1137, 12104,  2229, 22832,  1785,\n",
      "           119,   102,     0,     0,     0,     0,     0,     0,     0,     0,\n",
      "             0,     0,     0,     0,     0,     0,     0,     0,     0,     0,\n",
      "             0,     0,     0,     0,     0,     0,     0,     0,     0,     0,\n",
      "             0,     0,     0,     0,     0,     0,     0,     0,     0,     0,\n",
      "             0,     0,     0,     0,     0,     0,     0,     0,     0,     0,\n",
      "             0,     0,     0,     0,     0,     0,     0,     0,     0,     0,\n",
      "             0,     0,     0,     0,     0,     0,     0,     0,     0,     0,\n",
      "             0,     0,     0,     0,     0,     0,     0,     0,     0,     0,\n",
      "             0,     0,     0,     0,     0,     0,     0,     0,     0,     0,\n",
      "             0,     0,     0,     0,     0,     0,     0,     0,     0,     0,\n",
      "             0,     0,     0,     0,     0,     0,     0,     0]])\n",
      "tensor([[1, 1, 1, 1, 1, 1, 1, 1, 1, 1, 1, 1, 1, 1, 1, 1, 1, 1, 1, 1, 1, 1, 0, 0,\n",
      "         0, 0, 0, 0, 0, 0, 0, 0, 0, 0, 0, 0, 0, 0, 0, 0, 0, 0, 0, 0, 0, 0, 0, 0,\n",
      "         0, 0, 0, 0, 0, 0, 0, 0, 0, 0, 0, 0, 0, 0, 0, 0, 0, 0, 0, 0, 0, 0, 0, 0,\n",
      "         0, 0, 0, 0, 0, 0, 0, 0, 0, 0, 0, 0, 0, 0, 0, 0, 0, 0, 0, 0, 0, 0, 0, 0,\n",
      "         0, 0, 0, 0, 0, 0, 0, 0, 0, 0, 0, 0, 0, 0, 0, 0, 0, 0, 0, 0, 0, 0, 0, 0,\n",
      "         0, 0, 0, 0, 0, 0, 0, 0]])\n"
     ]
    }
   ],
   "source": [
    "print(t_ids)\n",
    "print(t_mask)"
   ]
  },
  {
   "cell_type": "code",
   "execution_count": 17,
   "id": "e471835a",
   "metadata": {},
   "outputs": [],
   "source": [
    "test_prediction = trained_model(t_ids, t_mask)\n",
    "test_prediction = test_prediction.detach().numpy().tolist()\n",
    "test_prediction = test_prediction[0]"
   ]
  },
  {
   "cell_type": "code",
   "execution_count": 18,
   "id": "6043c42b",
   "metadata": {},
   "outputs": [
    {
     "name": "stdout",
     "output_type": "stream",
     "text": [
      "<class 'list'>\n",
      "[0.9997829794883728, 0.00030249429983086884, 4.767687278217636e-05, 0.00011366841499693692, 0.00011216091661481187, 4.856568921240978e-05, 0.00012035007966915146, 0.00017477165965829045, 0.00021956927957944572, 0.00018089056538883597, 0.00026254254044033587, 3.689595541800372e-05, 0.00025799681316129863]\n"
     ]
    }
   ],
   "source": [
    "print(type(test_prediction))\n",
    "print(test_prediction)"
   ]
  },
  {
   "cell_type": "code",
   "execution_count": 19,
   "id": "2952891c",
   "metadata": {},
   "outputs": [
    {
     "name": "stdout",
     "output_type": "stream",
     "text": [
      "Targeted report has a diagnosis of >>>  Cardiomegaly\n",
      "impression :\n",
      "\n",
      "Severe cardiomegaly is unchanged, there is no edema or acute\n",
      " chest abnormality.\n",
      "\n",
      "Atelectasis  : 0.99978\n",
      "Cardiomegaly  : 0.00030\n",
      "Consolidation  : 0.00005\n",
      "Edema  : 0.00011\n",
      "Enlarged Cardiomediastinum  : 0.00011\n",
      "Fracture  : 0.00005\n",
      "Lung Lesion  : 0.00012\n",
      "Lung Opacity  : 0.00017\n",
      "No Finding  : 0.00022\n",
      "Pleural Effusion  : 0.00018\n",
      "Pleural Other  : 0.00026\n",
      "Pneumonia  : 0.00004\n",
      "Pneumothorax  : 0.00026\n"
     ]
    }
   ],
   "source": [
    "labels = ['Atelectasis', 'Cardiomegaly', 'Consolidation', 'Edema', 'Enlarged Cardiomediastinum', 'Fracture', \n",
    "            'Lung Lesion', 'Lung Opacity', 'No Finding', 'Pleural Effusion', 'Pleural Other', 'Pneumonia', 'Pneumothorax']\n",
    "\n",
    "print(\"Targeted report has a diagnosis of >>> \", targeted_diag)\n",
    "print(section, \":\\n\")\n",
    "print(report)\n",
    "print()\n",
    "\n",
    "threshold = 0.5\n",
    "for label, prediction in zip(labels, test_prediction):\n",
    "#     if prediction < threshold:\n",
    "#         continue\n",
    "    print(label, \" :\", \"%.5f\"%prediction)"
   ]
  },
  {
   "cell_type": "code",
   "execution_count": 409,
   "id": "727df6c5",
   "metadata": {},
   "outputs": [
    {
     "name": "stdout",
     "output_type": "stream",
     "text": [
      "Atelectasis  : 0.99978\n"
     ]
    }
   ],
   "source": [
    "for label, prediction in zip(labels, test_prediction):\n",
    "    if prediction < threshold:\n",
    "        continue\n",
    "    print(label, \" :\", \"%.5f\"%prediction)"
   ]
  },
  {
   "cell_type": "code",
   "execution_count": null,
   "id": "401d927e",
   "metadata": {},
   "outputs": [],
   "source": []
  },
  {
   "cell_type": "code",
   "execution_count": null,
   "id": "e6dbb4ee",
   "metadata": {},
   "outputs": [],
   "source": []
  },
  {
   "cell_type": "code",
   "execution_count": null,
   "id": "cb77385a",
   "metadata": {},
   "outputs": [],
   "source": []
  },
  {
   "cell_type": "markdown",
   "id": "2ab189a4",
   "metadata": {},
   "source": [
    "### (Not in use) Prediction - use Pipeline: zero-shot-classification\n",
    "**Supports multi_label!**\n",
    "- Source: https://discuss.huggingface.co/t/new-pipeline-for-zero-shot-text-classification/681\n",
    "- Source: https://huggingface.co/facebook/bart-large-mnli"
   ]
  },
  {
   "cell_type": "code",
   "execution_count": 16,
   "id": "bc9be6c0",
   "metadata": {},
   "outputs": [],
   "source": [
    "# Example: \n",
    "from transformers import pipeline\n",
    "classifier = pipeline(\"zero-shot-classification\",\n",
    "                      model=\"facebook/bart-large-mnli\")"
   ]
  },
  {
   "cell_type": "code",
   "execution_count": 17,
   "id": "d9c5512c",
   "metadata": {},
   "outputs": [
    {
     "name": "stderr",
     "output_type": "stream",
     "text": [
      "The `multi_class` argument has been deprecated and renamed to `multi_label`. `multi_class` will be removed in a future version of Transformers.\n"
     ]
    },
    {
     "data": {
      "text/plain": [
       "{'sequence': 'one day I will see the world',\n",
       " 'labels': ['travel', 'exploration', 'dancing', 'cooking'],\n",
       " 'scores': [0.9945111274719238,\n",
       "  0.9383889436721802,\n",
       "  0.005706179421395063,\n",
       "  0.0018193130381405354]}"
      ]
     },
     "execution_count": 17,
     "metadata": {},
     "output_type": "execute_result"
    }
   ],
   "source": [
    "sequence_to_classify = \"one day I will see the world\"\n",
    "candidate_labels = ['travel', 'cooking', 'dancing', 'exploration']\n",
    "classifier(sequence_to_classify, candidate_labels, multi_class=True)"
   ]
  },
  {
   "cell_type": "code",
   "execution_count": 11,
   "id": "138915af",
   "metadata": {},
   "outputs": [
    {
     "name": "stderr",
     "output_type": "stream",
     "text": [
      "Some weights of the model checkpoint at ICLbioengNLP/CXR_BioClinicalBERT_chunkedv1 were not used when initializing BertForSequenceClassification: ['cls.predictions.decoder.weight', 'cls.predictions.transform.LayerNorm.weight', 'cls.predictions.transform.dense.weight', 'cls.predictions.transform.LayerNorm.bias', 'cls.predictions.decoder.bias', 'cls.predictions.transform.dense.bias', 'cls.predictions.bias']\n",
      "- This IS expected if you are initializing BertForSequenceClassification from the checkpoint of a model trained on another task or with another architecture (e.g. initializing a BertForSequenceClassification model from a BertForPreTraining model).\n",
      "- This IS NOT expected if you are initializing BertForSequenceClassification from the checkpoint of a model that you expect to be exactly identical (initializing a BertForSequenceClassification model from a BertForSequenceClassification model).\n",
      "Some weights of BertForSequenceClassification were not initialized from the model checkpoint at ICLbioengNLP/CXR_BioClinicalBERT_chunkedv1 and are newly initialized: ['bert.pooler.dense.bias', 'classifier.bias', 'bert.pooler.dense.weight', 'classifier.weight']\n",
      "You should probably TRAIN this model on a down-stream task to be able to use it for predictions and inference.\n",
      "Failed to determine 'entailment' label id from the label2id mapping in the model config. Setting to -1. Define a descriptive label2id mapping in the model config to ensure correct outputs.\n"
     ]
    }
   ],
   "source": [
    "from transformers import pipeline\n",
    "classifier = pipeline(\"zero-shot-classification\", model=\"ICLbioengNLP/CXR_BioClinicalBERT_chunkedv1\")"
   ]
  },
  {
   "cell_type": "code",
   "execution_count": 14,
   "id": "6e60e14f",
   "metadata": {},
   "outputs": [
    {
     "data": {
      "text/plain": [
       "{'sequence': ' FINAL REPORT EXAMINATION  CHEST PA AND LAT  INDICATION  F with new onset ascites   eval for infection  TECHNIQUE  Chest PA and lateral  COMPARISON  None  FINDINGS   There is no focal consolidation pleural effusion or pneumothorax  Bilateral nodular opacities that most likely represent nipple shadows The cardiomediastinal silhouette is normal  Clips project over the left lung potentially within the breast The imaged upper abdomen is unremarkable Chronic deformity of the posterior left sixth and seventh ribs are noted  IMPRESSION   No acute cardiopulmonary process',\n",
       " 'labels': ['No Finding',\n",
       "  'Enlarged Cardiomediastinum',\n",
       "  'Pneumothorax',\n",
       "  'Atelectasis',\n",
       "  'Pleural Effusion',\n",
       "  'Edema',\n",
       "  'Pleural Other',\n",
       "  'Cardiomegaly',\n",
       "  'Pneumonia',\n",
       "  'Lung Opacity',\n",
       "  'Lung Lesion',\n",
       "  'Consolidation',\n",
       "  'Fracture'],\n",
       " 'scores': [0.447907954454422,\n",
       "  0.4478684961795807,\n",
       "  0.44755780696868896,\n",
       "  0.4475393295288086,\n",
       "  0.4475173354148865,\n",
       "  0.4472104012966156,\n",
       "  0.44697681069374084,\n",
       "  0.44694724678993225,\n",
       "  0.4469235837459564,\n",
       "  0.44688090682029724,\n",
       "  0.44686397910118103,\n",
       "  0.4464862048625946,\n",
       "  0.446434885263443]}"
      ]
     },
     "execution_count": 14,
     "metadata": {},
     "output_type": "execute_result"
    }
   ],
   "source": [
    "sequence_to_classify = \" FINAL REPORT EXAMINATION  CHEST PA AND LAT  INDICATION  F with new onset ascites   eval for infection  TECHNIQUE  Chest PA and lateral  COMPARISON  None  FINDINGS   There is no focal consolidation pleural effusion or pneumothorax  Bilateral nodular opacities that most likely represent nipple shadows The cardiomediastinal silhouette is normal  Clips project over the left lung potentially within the breast The imaged upper abdomen is unremarkable Chronic deformity of the posterior left sixth and seventh ribs are noted  IMPRESSION   No acute cardiopulmonary process\"\n",
    "candidate_labels = [\"Atelectasis\", \"Cardiomegaly\", \"Consolidation\", \"Edema\", \"Enlarged Cardiomediastinum\", \"Fracture\", \"Lung Lesion\", \"Lung Opacity\", \"No Finding\", \"Pleural Effusion\", \"Pleural Other\", \"Pneumonia\", \"Pneumothorax\"]\n",
    "classifier(sequence_to_classify, candidate_labels, multi_label=True)"
   ]
  },
  {
   "cell_type": "code",
   "execution_count": null,
   "id": "19112430",
   "metadata": {},
   "outputs": [],
   "source": []
  }
 ],
 "metadata": {
  "kernelspec": {
   "display_name": "Python 3",
   "language": "python",
   "name": "python3"
  },
  "language_info": {
   "codemirror_mode": {
    "name": "ipython",
    "version": 3
   },
   "file_extension": ".py",
   "mimetype": "text/x-python",
   "name": "python",
   "nbconvert_exporter": "python",
   "pygments_lexer": "ipython3",
   "version": "3.6.13"
  }
 },
 "nbformat": 4,
 "nbformat_minor": 5
}
